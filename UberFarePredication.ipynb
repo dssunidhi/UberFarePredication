{
  "nbformat": 4,
  "nbformat_minor": 0,
  "metadata": {
    "colab": {
      "provenance": []
    },
    "kernelspec": {
      "name": "python3",
      "display_name": "Python 3"
    },
    "language_info": {
      "name": "python"
    }
  },
  "cells": [
    {
      "cell_type": "markdown",
      "source": [
        "#★ UBER Fare Prediction ★#\n",
        "\n",
        "#Problem Statement:\n",
        "\n",
        "Uber serves many customers daily and needs to manage their data well to come up with new ideas and improve results. Accurately predicting fare prices for future trips is crucial for providing transparent and fair pricing to customers."
      ],
      "metadata": {
        "id": "_oP7KEbzDNly"
      }
    },
    {
      "cell_type": "markdown",
      "source": [
        "![images.jpg](data:image/jpeg;base64,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)"
      ],
      "metadata": {
        "id": "azAnPi4GCy5D"
      }
    },
    {
      "cell_type": "markdown",
      "source": [
        "#Step-1: Importing the data\n",
        "Importing the necessary libriraries to read the data"
      ],
      "metadata": {
        "id": "3KMTJEb7nnSd"
      }
    },
    {
      "cell_type": "code",
      "execution_count": 473,
      "metadata": {
        "id": "9pTM0qA5frAu"
      },
      "outputs": [],
      "source": [
        "#used for numerical computing\n",
        "import numpy as np\n",
        "#used for data manipulation\n",
        "import pandas as pd\n",
        "#used for data visualization\n",
        "import seaborn as sns,matplotlib.pyplot as plt\n",
        "#used to ignore all warning messages\n",
        "import warnings\n",
        "warnings.filterwarnings('ignore')"
      ]
    },
    {
      "cell_type": "code",
      "source": [
        "#Load dataset\n",
        "data = pd.read_csv('/content/drive/MyDrive/Uber/uber.csv')\n",
        "data.head()"
      ],
      "metadata": {
        "colab": {
          "base_uri": "https://localhost:8080/",
          "height": 206
        },
        "id": "IEJkDA8Jfstr",
        "outputId": "e97f381b-ef1c-42a2-f5bf-24101861e213"
      },
      "execution_count": 474,
      "outputs": [
        {
          "output_type": "execute_result",
          "data": {
            "text/plain": [
              "   Unnamed: 0                            key  fare_amount  \\\n",
              "0    24238194    2015-05-07 19:52:06.0000003          7.5   \n",
              "1    27835199    2009-07-17 20:04:56.0000002          7.7   \n",
              "2    44984355   2009-08-24 21:45:00.00000061         12.9   \n",
              "3    25894730    2009-06-26 08:22:21.0000001          5.3   \n",
              "4    17610152  2014-08-28 17:47:00.000000188         16.0   \n",
              "\n",
              "           pickup_datetime  pickup_longitude  pickup_latitude  \\\n",
              "0  2015-05-07 19:52:06 UTC        -73.999817        40.738354   \n",
              "1  2009-07-17 20:04:56 UTC        -73.994355        40.728225   \n",
              "2  2009-08-24 21:45:00 UTC        -74.005043        40.740770   \n",
              "3  2009-06-26 08:22:21 UTC        -73.976124        40.790844   \n",
              "4  2014-08-28 17:47:00 UTC        -73.925023        40.744085   \n",
              "\n",
              "   dropoff_longitude  dropoff_latitude  passenger_count  \n",
              "0         -73.999512         40.723217                1  \n",
              "1         -73.994710         40.750325                1  \n",
              "2         -73.962565         40.772647                1  \n",
              "3         -73.965316         40.803349                3  \n",
              "4         -73.973082         40.761247                5  "
            ],
            "text/html": [
              "\n",
              "  <div id=\"df-66267587-0db9-463b-ab3b-1548ca9d9b30\" class=\"colab-df-container\">\n",
              "    <div>\n",
              "<style scoped>\n",
              "    .dataframe tbody tr th:only-of-type {\n",
              "        vertical-align: middle;\n",
              "    }\n",
              "\n",
              "    .dataframe tbody tr th {\n",
              "        vertical-align: top;\n",
              "    }\n",
              "\n",
              "    .dataframe thead th {\n",
              "        text-align: right;\n",
              "    }\n",
              "</style>\n",
              "<table border=\"1\" class=\"dataframe\">\n",
              "  <thead>\n",
              "    <tr style=\"text-align: right;\">\n",
              "      <th></th>\n",
              "      <th>Unnamed: 0</th>\n",
              "      <th>key</th>\n",
              "      <th>fare_amount</th>\n",
              "      <th>pickup_datetime</th>\n",
              "      <th>pickup_longitude</th>\n",
              "      <th>pickup_latitude</th>\n",
              "      <th>dropoff_longitude</th>\n",
              "      <th>dropoff_latitude</th>\n",
              "      <th>passenger_count</th>\n",
              "    </tr>\n",
              "  </thead>\n",
              "  <tbody>\n",
              "    <tr>\n",
              "      <th>0</th>\n",
              "      <td>24238194</td>\n",
              "      <td>2015-05-07 19:52:06.0000003</td>\n",
              "      <td>7.5</td>\n",
              "      <td>2015-05-07 19:52:06 UTC</td>\n",
              "      <td>-73.999817</td>\n",
              "      <td>40.738354</td>\n",
              "      <td>-73.999512</td>\n",
              "      <td>40.723217</td>\n",
              "      <td>1</td>\n",
              "    </tr>\n",
              "    <tr>\n",
              "      <th>1</th>\n",
              "      <td>27835199</td>\n",
              "      <td>2009-07-17 20:04:56.0000002</td>\n",
              "      <td>7.7</td>\n",
              "      <td>2009-07-17 20:04:56 UTC</td>\n",
              "      <td>-73.994355</td>\n",
              "      <td>40.728225</td>\n",
              "      <td>-73.994710</td>\n",
              "      <td>40.750325</td>\n",
              "      <td>1</td>\n",
              "    </tr>\n",
              "    <tr>\n",
              "      <th>2</th>\n",
              "      <td>44984355</td>\n",
              "      <td>2009-08-24 21:45:00.00000061</td>\n",
              "      <td>12.9</td>\n",
              "      <td>2009-08-24 21:45:00 UTC</td>\n",
              "      <td>-74.005043</td>\n",
              "      <td>40.740770</td>\n",
              "      <td>-73.962565</td>\n",
              "      <td>40.772647</td>\n",
              "      <td>1</td>\n",
              "    </tr>\n",
              "    <tr>\n",
              "      <th>3</th>\n",
              "      <td>25894730</td>\n",
              "      <td>2009-06-26 08:22:21.0000001</td>\n",
              "      <td>5.3</td>\n",
              "      <td>2009-06-26 08:22:21 UTC</td>\n",
              "      <td>-73.976124</td>\n",
              "      <td>40.790844</td>\n",
              "      <td>-73.965316</td>\n",
              "      <td>40.803349</td>\n",
              "      <td>3</td>\n",
              "    </tr>\n",
              "    <tr>\n",
              "      <th>4</th>\n",
              "      <td>17610152</td>\n",
              "      <td>2014-08-28 17:47:00.000000188</td>\n",
              "      <td>16.0</td>\n",
              "      <td>2014-08-28 17:47:00 UTC</td>\n",
              "      <td>-73.925023</td>\n",
              "      <td>40.744085</td>\n",
              "      <td>-73.973082</td>\n",
              "      <td>40.761247</td>\n",
              "      <td>5</td>\n",
              "    </tr>\n",
              "  </tbody>\n",
              "</table>\n",
              "</div>\n",
              "    <div class=\"colab-df-buttons\">\n",
              "\n",
              "  <div class=\"colab-df-container\">\n",
              "    <button class=\"colab-df-convert\" onclick=\"convertToInteractive('df-66267587-0db9-463b-ab3b-1548ca9d9b30')\"\n",
              "            title=\"Convert this dataframe to an interactive table.\"\n",
              "            style=\"display:none;\">\n",
              "\n",
              "  <svg xmlns=\"http://www.w3.org/2000/svg\" height=\"24px\" viewBox=\"0 -960 960 960\">\n",
              "    <path d=\"M120-120v-720h720v720H120Zm60-500h600v-160H180v160Zm220 220h160v-160H400v160Zm0 220h160v-160H400v160ZM180-400h160v-160H180v160Zm440 0h160v-160H620v160ZM180-180h160v-160H180v160Zm440 0h160v-160H620v160Z\"/>\n",
              "  </svg>\n",
              "    </button>\n",
              "\n",
              "  <style>\n",
              "    .colab-df-container {\n",
              "      display:flex;\n",
              "      gap: 12px;\n",
              "    }\n",
              "\n",
              "    .colab-df-convert {\n",
              "      background-color: #E8F0FE;\n",
              "      border: none;\n",
              "      border-radius: 50%;\n",
              "      cursor: pointer;\n",
              "      display: none;\n",
              "      fill: #1967D2;\n",
              "      height: 32px;\n",
              "      padding: 0 0 0 0;\n",
              "      width: 32px;\n",
              "    }\n",
              "\n",
              "    .colab-df-convert:hover {\n",
              "      background-color: #E2EBFA;\n",
              "      box-shadow: 0px 1px 2px rgba(60, 64, 67, 0.3), 0px 1px 3px 1px rgba(60, 64, 67, 0.15);\n",
              "      fill: #174EA6;\n",
              "    }\n",
              "\n",
              "    .colab-df-buttons div {\n",
              "      margin-bottom: 4px;\n",
              "    }\n",
              "\n",
              "    [theme=dark] .colab-df-convert {\n",
              "      background-color: #3B4455;\n",
              "      fill: #D2E3FC;\n",
              "    }\n",
              "\n",
              "    [theme=dark] .colab-df-convert:hover {\n",
              "      background-color: #434B5C;\n",
              "      box-shadow: 0px 1px 3px 1px rgba(0, 0, 0, 0.15);\n",
              "      filter: drop-shadow(0px 1px 2px rgba(0, 0, 0, 0.3));\n",
              "      fill: #FFFFFF;\n",
              "    }\n",
              "  </style>\n",
              "\n",
              "    <script>\n",
              "      const buttonEl =\n",
              "        document.querySelector('#df-66267587-0db9-463b-ab3b-1548ca9d9b30 button.colab-df-convert');\n",
              "      buttonEl.style.display =\n",
              "        google.colab.kernel.accessAllowed ? 'block' : 'none';\n",
              "\n",
              "      async function convertToInteractive(key) {\n",
              "        const element = document.querySelector('#df-66267587-0db9-463b-ab3b-1548ca9d9b30');\n",
              "        const dataTable =\n",
              "          await google.colab.kernel.invokeFunction('convertToInteractive',\n",
              "                                                    [key], {});\n",
              "        if (!dataTable) return;\n",
              "\n",
              "        const docLinkHtml = 'Like what you see? Visit the ' +\n",
              "          '<a target=\"_blank\" href=https://colab.research.google.com/notebooks/data_table.ipynb>data table notebook</a>'\n",
              "          + ' to learn more about interactive tables.';\n",
              "        element.innerHTML = '';\n",
              "        dataTable['output_type'] = 'display_data';\n",
              "        await google.colab.output.renderOutput(dataTable, element);\n",
              "        const docLink = document.createElement('div');\n",
              "        docLink.innerHTML = docLinkHtml;\n",
              "        element.appendChild(docLink);\n",
              "      }\n",
              "    </script>\n",
              "  </div>\n",
              "\n",
              "\n",
              "<div id=\"df-64805e59-12e9-403f-91ee-2e655c0e0755\">\n",
              "  <button class=\"colab-df-quickchart\" onclick=\"quickchart('df-64805e59-12e9-403f-91ee-2e655c0e0755')\"\n",
              "            title=\"Suggest charts\"\n",
              "            style=\"display:none;\">\n",
              "\n",
              "<svg xmlns=\"http://www.w3.org/2000/svg\" height=\"24px\"viewBox=\"0 0 24 24\"\n",
              "     width=\"24px\">\n",
              "    <g>\n",
              "        <path d=\"M19 3H5c-1.1 0-2 .9-2 2v14c0 1.1.9 2 2 2h14c1.1 0 2-.9 2-2V5c0-1.1-.9-2-2-2zM9 17H7v-7h2v7zm4 0h-2V7h2v10zm4 0h-2v-4h2v4z\"/>\n",
              "    </g>\n",
              "</svg>\n",
              "  </button>\n",
              "\n",
              "<style>\n",
              "  .colab-df-quickchart {\n",
              "      --bg-color: #E8F0FE;\n",
              "      --fill-color: #1967D2;\n",
              "      --hover-bg-color: #E2EBFA;\n",
              "      --hover-fill-color: #174EA6;\n",
              "      --disabled-fill-color: #AAA;\n",
              "      --disabled-bg-color: #DDD;\n",
              "  }\n",
              "\n",
              "  [theme=dark] .colab-df-quickchart {\n",
              "      --bg-color: #3B4455;\n",
              "      --fill-color: #D2E3FC;\n",
              "      --hover-bg-color: #434B5C;\n",
              "      --hover-fill-color: #FFFFFF;\n",
              "      --disabled-bg-color: #3B4455;\n",
              "      --disabled-fill-color: #666;\n",
              "  }\n",
              "\n",
              "  .colab-df-quickchart {\n",
              "    background-color: var(--bg-color);\n",
              "    border: none;\n",
              "    border-radius: 50%;\n",
              "    cursor: pointer;\n",
              "    display: none;\n",
              "    fill: var(--fill-color);\n",
              "    height: 32px;\n",
              "    padding: 0;\n",
              "    width: 32px;\n",
              "  }\n",
              "\n",
              "  .colab-df-quickchart:hover {\n",
              "    background-color: var(--hover-bg-color);\n",
              "    box-shadow: 0 1px 2px rgba(60, 64, 67, 0.3), 0 1px 3px 1px rgba(60, 64, 67, 0.15);\n",
              "    fill: var(--button-hover-fill-color);\n",
              "  }\n",
              "\n",
              "  .colab-df-quickchart-complete:disabled,\n",
              "  .colab-df-quickchart-complete:disabled:hover {\n",
              "    background-color: var(--disabled-bg-color);\n",
              "    fill: var(--disabled-fill-color);\n",
              "    box-shadow: none;\n",
              "  }\n",
              "\n",
              "  .colab-df-spinner {\n",
              "    border: 2px solid var(--fill-color);\n",
              "    border-color: transparent;\n",
              "    border-bottom-color: var(--fill-color);\n",
              "    animation:\n",
              "      spin 1s steps(1) infinite;\n",
              "  }\n",
              "\n",
              "  @keyframes spin {\n",
              "    0% {\n",
              "      border-color: transparent;\n",
              "      border-bottom-color: var(--fill-color);\n",
              "      border-left-color: var(--fill-color);\n",
              "    }\n",
              "    20% {\n",
              "      border-color: transparent;\n",
              "      border-left-color: var(--fill-color);\n",
              "      border-top-color: var(--fill-color);\n",
              "    }\n",
              "    30% {\n",
              "      border-color: transparent;\n",
              "      border-left-color: var(--fill-color);\n",
              "      border-top-color: var(--fill-color);\n",
              "      border-right-color: var(--fill-color);\n",
              "    }\n",
              "    40% {\n",
              "      border-color: transparent;\n",
              "      border-right-color: var(--fill-color);\n",
              "      border-top-color: var(--fill-color);\n",
              "    }\n",
              "    60% {\n",
              "      border-color: transparent;\n",
              "      border-right-color: var(--fill-color);\n",
              "    }\n",
              "    80% {\n",
              "      border-color: transparent;\n",
              "      border-right-color: var(--fill-color);\n",
              "      border-bottom-color: var(--fill-color);\n",
              "    }\n",
              "    90% {\n",
              "      border-color: transparent;\n",
              "      border-bottom-color: var(--fill-color);\n",
              "    }\n",
              "  }\n",
              "</style>\n",
              "\n",
              "  <script>\n",
              "    async function quickchart(key) {\n",
              "      const quickchartButtonEl =\n",
              "        document.querySelector('#' + key + ' button');\n",
              "      quickchartButtonEl.disabled = true;  // To prevent multiple clicks.\n",
              "      quickchartButtonEl.classList.add('colab-df-spinner');\n",
              "      try {\n",
              "        const charts = await google.colab.kernel.invokeFunction(\n",
              "            'suggestCharts', [key], {});\n",
              "      } catch (error) {\n",
              "        console.error('Error during call to suggestCharts:', error);\n",
              "      }\n",
              "      quickchartButtonEl.classList.remove('colab-df-spinner');\n",
              "      quickchartButtonEl.classList.add('colab-df-quickchart-complete');\n",
              "    }\n",
              "    (() => {\n",
              "      let quickchartButtonEl =\n",
              "        document.querySelector('#df-64805e59-12e9-403f-91ee-2e655c0e0755 button');\n",
              "      quickchartButtonEl.style.display =\n",
              "        google.colab.kernel.accessAllowed ? 'block' : 'none';\n",
              "    })();\n",
              "  </script>\n",
              "</div>\n",
              "\n",
              "    </div>\n",
              "  </div>\n"
            ],
            "application/vnd.google.colaboratory.intrinsic+json": {
              "type": "dataframe",
              "variable_name": "data"
            }
          },
          "metadata": {},
          "execution_count": 474
        }
      ]
    },
    {
      "cell_type": "code",
      "source": [
        "#check shape of dataset\n",
        "data.shape"
      ],
      "metadata": {
        "colab": {
          "base_uri": "https://localhost:8080/"
        },
        "id": "CTc4N3qygb3z",
        "outputId": "a7796a3f-aa78-4a25-ec8f-eacb832aea07"
      },
      "execution_count": 475,
      "outputs": [
        {
          "output_type": "execute_result",
          "data": {
            "text/plain": [
              "(200000, 9)"
            ]
          },
          "metadata": {},
          "execution_count": 475
        }
      ]
    },
    {
      "cell_type": "code",
      "source": [
        "#check columns of dataset\n",
        "data.columns"
      ],
      "metadata": {
        "colab": {
          "base_uri": "https://localhost:8080/"
        },
        "id": "Pis9hL7zn2jb",
        "outputId": "6bd30d7e-f9fd-42b1-b781-6ac077de4d04"
      },
      "execution_count": 476,
      "outputs": [
        {
          "output_type": "execute_result",
          "data": {
            "text/plain": [
              "Index(['Unnamed: 0', 'key', 'fare_amount', 'pickup_datetime',\n",
              "       'pickup_longitude', 'pickup_latitude', 'dropoff_longitude',\n",
              "       'dropoff_latitude', 'passenger_count'],\n",
              "      dtype='object')"
            ]
          },
          "metadata": {},
          "execution_count": 476
        }
      ]
    },
    {
      "cell_type": "code",
      "source": [
        "#check size of dataset\n",
        "data.size"
      ],
      "metadata": {
        "colab": {
          "base_uri": "https://localhost:8080/"
        },
        "id": "5DNIdk-1n6P1",
        "outputId": "8eaef2f2-2bed-4366-eb06-759b0febeb45"
      },
      "execution_count": 477,
      "outputs": [
        {
          "output_type": "execute_result",
          "data": {
            "text/plain": [
              "1800000"
            ]
          },
          "metadata": {},
          "execution_count": 477
        }
      ]
    },
    {
      "cell_type": "markdown",
      "source": [
        "#Step-2:Inspecting the Data"
      ],
      "metadata": {
        "id": "KTWZGeuTn9Qb"
      }
    },
    {
      "cell_type": "code",
      "source": [
        "data.info()"
      ],
      "metadata": {
        "colab": {
          "base_uri": "https://localhost:8080/"
        },
        "id": "WpB_FEDYg1JF",
        "outputId": "365cd53f-8d14-4edf-fb35-3389b25200f2"
      },
      "execution_count": 478,
      "outputs": [
        {
          "output_type": "stream",
          "name": "stdout",
          "text": [
            "<class 'pandas.core.frame.DataFrame'>\n",
            "RangeIndex: 200000 entries, 0 to 199999\n",
            "Data columns (total 9 columns):\n",
            " #   Column             Non-Null Count   Dtype  \n",
            "---  ------             --------------   -----  \n",
            " 0   Unnamed: 0         200000 non-null  int64  \n",
            " 1   key                200000 non-null  object \n",
            " 2   fare_amount        200000 non-null  float64\n",
            " 3   pickup_datetime    200000 non-null  object \n",
            " 4   pickup_longitude   200000 non-null  float64\n",
            " 5   pickup_latitude    200000 non-null  float64\n",
            " 6   dropoff_longitude  199999 non-null  float64\n",
            " 7   dropoff_latitude   199999 non-null  float64\n",
            " 8   passenger_count    200000 non-null  int64  \n",
            "dtypes: float64(5), int64(2), object(2)\n",
            "memory usage: 13.7+ MB\n"
          ]
        }
      ]
    },
    {
      "cell_type": "code",
      "source": [
        "data.describe()"
      ],
      "metadata": {
        "colab": {
          "base_uri": "https://localhost:8080/",
          "height": 300
        },
        "id": "qzrAeX5Yg-Jj",
        "outputId": "15cb0a49-2055-4588-b80b-4d60b6cc30c3"
      },
      "execution_count": 479,
      "outputs": [
        {
          "output_type": "execute_result",
          "data": {
            "text/plain": [
              "         Unnamed: 0    fare_amount  pickup_longitude  pickup_latitude  \\\n",
              "count  2.000000e+05  200000.000000     200000.000000    200000.000000   \n",
              "mean   2.771250e+07      11.359955        -72.527638        39.935885   \n",
              "std    1.601382e+07       9.901776         11.437787         7.720539   \n",
              "min    1.000000e+00     -52.000000      -1340.648410       -74.015515   \n",
              "25%    1.382535e+07       6.000000        -73.992065        40.734796   \n",
              "50%    2.774550e+07       8.500000        -73.981823        40.752592   \n",
              "75%    4.155530e+07      12.500000        -73.967154        40.767158   \n",
              "max    5.542357e+07     499.000000         57.418457      1644.421482   \n",
              "\n",
              "       dropoff_longitude  dropoff_latitude  passenger_count  \n",
              "count      199999.000000     199999.000000    200000.000000  \n",
              "mean          -72.525292         39.923890         1.684535  \n",
              "std            13.117408          6.794829         1.385997  \n",
              "min         -3356.666300       -881.985513         0.000000  \n",
              "25%           -73.991407         40.733823         1.000000  \n",
              "50%           -73.980093         40.753042         1.000000  \n",
              "75%           -73.963658         40.768001         2.000000  \n",
              "max          1153.572603        872.697628       208.000000  "
            ],
            "text/html": [
              "\n",
              "  <div id=\"df-165350f8-b7e9-4d31-988f-1beb6b939a28\" class=\"colab-df-container\">\n",
              "    <div>\n",
              "<style scoped>\n",
              "    .dataframe tbody tr th:only-of-type {\n",
              "        vertical-align: middle;\n",
              "    }\n",
              "\n",
              "    .dataframe tbody tr th {\n",
              "        vertical-align: top;\n",
              "    }\n",
              "\n",
              "    .dataframe thead th {\n",
              "        text-align: right;\n",
              "    }\n",
              "</style>\n",
              "<table border=\"1\" class=\"dataframe\">\n",
              "  <thead>\n",
              "    <tr style=\"text-align: right;\">\n",
              "      <th></th>\n",
              "      <th>Unnamed: 0</th>\n",
              "      <th>fare_amount</th>\n",
              "      <th>pickup_longitude</th>\n",
              "      <th>pickup_latitude</th>\n",
              "      <th>dropoff_longitude</th>\n",
              "      <th>dropoff_latitude</th>\n",
              "      <th>passenger_count</th>\n",
              "    </tr>\n",
              "  </thead>\n",
              "  <tbody>\n",
              "    <tr>\n",
              "      <th>count</th>\n",
              "      <td>2.000000e+05</td>\n",
              "      <td>200000.000000</td>\n",
              "      <td>200000.000000</td>\n",
              "      <td>200000.000000</td>\n",
              "      <td>199999.000000</td>\n",
              "      <td>199999.000000</td>\n",
              "      <td>200000.000000</td>\n",
              "    </tr>\n",
              "    <tr>\n",
              "      <th>mean</th>\n",
              "      <td>2.771250e+07</td>\n",
              "      <td>11.359955</td>\n",
              "      <td>-72.527638</td>\n",
              "      <td>39.935885</td>\n",
              "      <td>-72.525292</td>\n",
              "      <td>39.923890</td>\n",
              "      <td>1.684535</td>\n",
              "    </tr>\n",
              "    <tr>\n",
              "      <th>std</th>\n",
              "      <td>1.601382e+07</td>\n",
              "      <td>9.901776</td>\n",
              "      <td>11.437787</td>\n",
              "      <td>7.720539</td>\n",
              "      <td>13.117408</td>\n",
              "      <td>6.794829</td>\n",
              "      <td>1.385997</td>\n",
              "    </tr>\n",
              "    <tr>\n",
              "      <th>min</th>\n",
              "      <td>1.000000e+00</td>\n",
              "      <td>-52.000000</td>\n",
              "      <td>-1340.648410</td>\n",
              "      <td>-74.015515</td>\n",
              "      <td>-3356.666300</td>\n",
              "      <td>-881.985513</td>\n",
              "      <td>0.000000</td>\n",
              "    </tr>\n",
              "    <tr>\n",
              "      <th>25%</th>\n",
              "      <td>1.382535e+07</td>\n",
              "      <td>6.000000</td>\n",
              "      <td>-73.992065</td>\n",
              "      <td>40.734796</td>\n",
              "      <td>-73.991407</td>\n",
              "      <td>40.733823</td>\n",
              "      <td>1.000000</td>\n",
              "    </tr>\n",
              "    <tr>\n",
              "      <th>50%</th>\n",
              "      <td>2.774550e+07</td>\n",
              "      <td>8.500000</td>\n",
              "      <td>-73.981823</td>\n",
              "      <td>40.752592</td>\n",
              "      <td>-73.980093</td>\n",
              "      <td>40.753042</td>\n",
              "      <td>1.000000</td>\n",
              "    </tr>\n",
              "    <tr>\n",
              "      <th>75%</th>\n",
              "      <td>4.155530e+07</td>\n",
              "      <td>12.500000</td>\n",
              "      <td>-73.967154</td>\n",
              "      <td>40.767158</td>\n",
              "      <td>-73.963658</td>\n",
              "      <td>40.768001</td>\n",
              "      <td>2.000000</td>\n",
              "    </tr>\n",
              "    <tr>\n",
              "      <th>max</th>\n",
              "      <td>5.542357e+07</td>\n",
              "      <td>499.000000</td>\n",
              "      <td>57.418457</td>\n",
              "      <td>1644.421482</td>\n",
              "      <td>1153.572603</td>\n",
              "      <td>872.697628</td>\n",
              "      <td>208.000000</td>\n",
              "    </tr>\n",
              "  </tbody>\n",
              "</table>\n",
              "</div>\n",
              "    <div class=\"colab-df-buttons\">\n",
              "\n",
              "  <div class=\"colab-df-container\">\n",
              "    <button class=\"colab-df-convert\" onclick=\"convertToInteractive('df-165350f8-b7e9-4d31-988f-1beb6b939a28')\"\n",
              "            title=\"Convert this dataframe to an interactive table.\"\n",
              "            style=\"display:none;\">\n",
              "\n",
              "  <svg xmlns=\"http://www.w3.org/2000/svg\" height=\"24px\" viewBox=\"0 -960 960 960\">\n",
              "    <path d=\"M120-120v-720h720v720H120Zm60-500h600v-160H180v160Zm220 220h160v-160H400v160Zm0 220h160v-160H400v160ZM180-400h160v-160H180v160Zm440 0h160v-160H620v160ZM180-180h160v-160H180v160Zm440 0h160v-160H620v160Z\"/>\n",
              "  </svg>\n",
              "    </button>\n",
              "\n",
              "  <style>\n",
              "    .colab-df-container {\n",
              "      display:flex;\n",
              "      gap: 12px;\n",
              "    }\n",
              "\n",
              "    .colab-df-convert {\n",
              "      background-color: #E8F0FE;\n",
              "      border: none;\n",
              "      border-radius: 50%;\n",
              "      cursor: pointer;\n",
              "      display: none;\n",
              "      fill: #1967D2;\n",
              "      height: 32px;\n",
              "      padding: 0 0 0 0;\n",
              "      width: 32px;\n",
              "    }\n",
              "\n",
              "    .colab-df-convert:hover {\n",
              "      background-color: #E2EBFA;\n",
              "      box-shadow: 0px 1px 2px rgba(60, 64, 67, 0.3), 0px 1px 3px 1px rgba(60, 64, 67, 0.15);\n",
              "      fill: #174EA6;\n",
              "    }\n",
              "\n",
              "    .colab-df-buttons div {\n",
              "      margin-bottom: 4px;\n",
              "    }\n",
              "\n",
              "    [theme=dark] .colab-df-convert {\n",
              "      background-color: #3B4455;\n",
              "      fill: #D2E3FC;\n",
              "    }\n",
              "\n",
              "    [theme=dark] .colab-df-convert:hover {\n",
              "      background-color: #434B5C;\n",
              "      box-shadow: 0px 1px 3px 1px rgba(0, 0, 0, 0.15);\n",
              "      filter: drop-shadow(0px 1px 2px rgba(0, 0, 0, 0.3));\n",
              "      fill: #FFFFFF;\n",
              "    }\n",
              "  </style>\n",
              "\n",
              "    <script>\n",
              "      const buttonEl =\n",
              "        document.querySelector('#df-165350f8-b7e9-4d31-988f-1beb6b939a28 button.colab-df-convert');\n",
              "      buttonEl.style.display =\n",
              "        google.colab.kernel.accessAllowed ? 'block' : 'none';\n",
              "\n",
              "      async function convertToInteractive(key) {\n",
              "        const element = document.querySelector('#df-165350f8-b7e9-4d31-988f-1beb6b939a28');\n",
              "        const dataTable =\n",
              "          await google.colab.kernel.invokeFunction('convertToInteractive',\n",
              "                                                    [key], {});\n",
              "        if (!dataTable) return;\n",
              "\n",
              "        const docLinkHtml = 'Like what you see? Visit the ' +\n",
              "          '<a target=\"_blank\" href=https://colab.research.google.com/notebooks/data_table.ipynb>data table notebook</a>'\n",
              "          + ' to learn more about interactive tables.';\n",
              "        element.innerHTML = '';\n",
              "        dataTable['output_type'] = 'display_data';\n",
              "        await google.colab.output.renderOutput(dataTable, element);\n",
              "        const docLink = document.createElement('div');\n",
              "        docLink.innerHTML = docLinkHtml;\n",
              "        element.appendChild(docLink);\n",
              "      }\n",
              "    </script>\n",
              "  </div>\n",
              "\n",
              "\n",
              "<div id=\"df-f94393d0-bb00-4152-abf1-1c62d739e395\">\n",
              "  <button class=\"colab-df-quickchart\" onclick=\"quickchart('df-f94393d0-bb00-4152-abf1-1c62d739e395')\"\n",
              "            title=\"Suggest charts\"\n",
              "            style=\"display:none;\">\n",
              "\n",
              "<svg xmlns=\"http://www.w3.org/2000/svg\" height=\"24px\"viewBox=\"0 0 24 24\"\n",
              "     width=\"24px\">\n",
              "    <g>\n",
              "        <path d=\"M19 3H5c-1.1 0-2 .9-2 2v14c0 1.1.9 2 2 2h14c1.1 0 2-.9 2-2V5c0-1.1-.9-2-2-2zM9 17H7v-7h2v7zm4 0h-2V7h2v10zm4 0h-2v-4h2v4z\"/>\n",
              "    </g>\n",
              "</svg>\n",
              "  </button>\n",
              "\n",
              "<style>\n",
              "  .colab-df-quickchart {\n",
              "      --bg-color: #E8F0FE;\n",
              "      --fill-color: #1967D2;\n",
              "      --hover-bg-color: #E2EBFA;\n",
              "      --hover-fill-color: #174EA6;\n",
              "      --disabled-fill-color: #AAA;\n",
              "      --disabled-bg-color: #DDD;\n",
              "  }\n",
              "\n",
              "  [theme=dark] .colab-df-quickchart {\n",
              "      --bg-color: #3B4455;\n",
              "      --fill-color: #D2E3FC;\n",
              "      --hover-bg-color: #434B5C;\n",
              "      --hover-fill-color: #FFFFFF;\n",
              "      --disabled-bg-color: #3B4455;\n",
              "      --disabled-fill-color: #666;\n",
              "  }\n",
              "\n",
              "  .colab-df-quickchart {\n",
              "    background-color: var(--bg-color);\n",
              "    border: none;\n",
              "    border-radius: 50%;\n",
              "    cursor: pointer;\n",
              "    display: none;\n",
              "    fill: var(--fill-color);\n",
              "    height: 32px;\n",
              "    padding: 0;\n",
              "    width: 32px;\n",
              "  }\n",
              "\n",
              "  .colab-df-quickchart:hover {\n",
              "    background-color: var(--hover-bg-color);\n",
              "    box-shadow: 0 1px 2px rgba(60, 64, 67, 0.3), 0 1px 3px 1px rgba(60, 64, 67, 0.15);\n",
              "    fill: var(--button-hover-fill-color);\n",
              "  }\n",
              "\n",
              "  .colab-df-quickchart-complete:disabled,\n",
              "  .colab-df-quickchart-complete:disabled:hover {\n",
              "    background-color: var(--disabled-bg-color);\n",
              "    fill: var(--disabled-fill-color);\n",
              "    box-shadow: none;\n",
              "  }\n",
              "\n",
              "  .colab-df-spinner {\n",
              "    border: 2px solid var(--fill-color);\n",
              "    border-color: transparent;\n",
              "    border-bottom-color: var(--fill-color);\n",
              "    animation:\n",
              "      spin 1s steps(1) infinite;\n",
              "  }\n",
              "\n",
              "  @keyframes spin {\n",
              "    0% {\n",
              "      border-color: transparent;\n",
              "      border-bottom-color: var(--fill-color);\n",
              "      border-left-color: var(--fill-color);\n",
              "    }\n",
              "    20% {\n",
              "      border-color: transparent;\n",
              "      border-left-color: var(--fill-color);\n",
              "      border-top-color: var(--fill-color);\n",
              "    }\n",
              "    30% {\n",
              "      border-color: transparent;\n",
              "      border-left-color: var(--fill-color);\n",
              "      border-top-color: var(--fill-color);\n",
              "      border-right-color: var(--fill-color);\n",
              "    }\n",
              "    40% {\n",
              "      border-color: transparent;\n",
              "      border-right-color: var(--fill-color);\n",
              "      border-top-color: var(--fill-color);\n",
              "    }\n",
              "    60% {\n",
              "      border-color: transparent;\n",
              "      border-right-color: var(--fill-color);\n",
              "    }\n",
              "    80% {\n",
              "      border-color: transparent;\n",
              "      border-right-color: var(--fill-color);\n",
              "      border-bottom-color: var(--fill-color);\n",
              "    }\n",
              "    90% {\n",
              "      border-color: transparent;\n",
              "      border-bottom-color: var(--fill-color);\n",
              "    }\n",
              "  }\n",
              "</style>\n",
              "\n",
              "  <script>\n",
              "    async function quickchart(key) {\n",
              "      const quickchartButtonEl =\n",
              "        document.querySelector('#' + key + ' button');\n",
              "      quickchartButtonEl.disabled = true;  // To prevent multiple clicks.\n",
              "      quickchartButtonEl.classList.add('colab-df-spinner');\n",
              "      try {\n",
              "        const charts = await google.colab.kernel.invokeFunction(\n",
              "            'suggestCharts', [key], {});\n",
              "      } catch (error) {\n",
              "        console.error('Error during call to suggestCharts:', error);\n",
              "      }\n",
              "      quickchartButtonEl.classList.remove('colab-df-spinner');\n",
              "      quickchartButtonEl.classList.add('colab-df-quickchart-complete');\n",
              "    }\n",
              "    (() => {\n",
              "      let quickchartButtonEl =\n",
              "        document.querySelector('#df-f94393d0-bb00-4152-abf1-1c62d739e395 button');\n",
              "      quickchartButtonEl.style.display =\n",
              "        google.colab.kernel.accessAllowed ? 'block' : 'none';\n",
              "    })();\n",
              "  </script>\n",
              "</div>\n",
              "\n",
              "    </div>\n",
              "  </div>\n"
            ],
            "application/vnd.google.colaboratory.intrinsic+json": {
              "type": "dataframe",
              "summary": "{\n  \"name\": \"data\",\n  \"rows\": 8,\n  \"fields\": [\n    {\n      \"column\": \"Unnamed: 0\",\n      \"properties\": {\n        \"dtype\": \"number\",\n        \"std\": 19353275.447618965,\n        \"min\": 1.0,\n        \"max\": 55423567.0,\n        \"num_unique_values\": 8,\n        \"samples\": [\n          27712503.68235,\n          27745495.0,\n          200000.0\n        ],\n        \"semantic_type\": \"\",\n        \"description\": \"\"\n      }\n    },\n    {\n      \"column\": \"fare_amount\",\n      \"properties\": {\n        \"dtype\": \"number\",\n        \"std\": 70685.88306171099,\n        \"min\": -52.0,\n        \"max\": 200000.0,\n        \"num_unique_values\": 8,\n        \"samples\": [\n          11.359955250000002,\n          8.5,\n          200000.0\n        ],\n        \"semantic_type\": \"\",\n        \"description\": \"\"\n      }\n    },\n    {\n      \"column\": \"pickup_longitude\",\n      \"properties\": {\n        \"dtype\": \"number\",\n        \"std\": 70791.27149688502,\n        \"min\": -1340.64841,\n        \"max\": 200000.0,\n        \"num_unique_values\": 8,\n        \"samples\": [\n          -72.5276379162372,\n          -73.98182299999999,\n          200000.0\n        ],\n        \"semantic_type\": \"\",\n        \"description\": \"\"\n      }\n    },\n    {\n      \"column\": \"pickup_latitude\",\n      \"properties\": {\n        \"dtype\": \"number\",\n        \"std\": 70625.08842178025,\n        \"min\": -74.01551500000001,\n        \"max\": 200000.0,\n        \"num_unique_values\": 8,\n        \"samples\": [\n          39.93588537801235,\n          40.752592,\n          200000.0\n        ],\n        \"semantic_type\": \"\",\n        \"description\": \"\"\n      }\n    },\n    {\n      \"column\": \"dropoff_longitude\",\n      \"properties\": {\n        \"dtype\": \"number\",\n        \"std\": 70847.64282023362,\n        \"min\": -3356.6663,\n        \"max\": 199999.0,\n        \"num_unique_values\": 8,\n        \"samples\": [\n          -72.52529162747415,\n          -73.98009300000001,\n          199999.0\n        ],\n        \"semantic_type\": \"\",\n        \"description\": \"\"\n      }\n    },\n    {\n      \"column\": \"dropoff_latitude\",\n      \"properties\": {\n        \"dtype\": \"number\",\n        \"std\": 70703.81752683062,\n        \"min\": -881.9855130000001,\n        \"max\": 199999.0,\n        \"num_unique_values\": 8,\n        \"samples\": [\n          39.92389040183263,\n          40.753042,\n          199999.0\n        ],\n        \"semantic_type\": \"\",\n        \"description\": \"\"\n      }\n    },\n    {\n      \"column\": \"passenger_count\",\n      \"properties\": {\n        \"dtype\": \"number\",\n        \"std\": 70699.85246121645,\n        \"min\": 0.0,\n        \"max\": 200000.0,\n        \"num_unique_values\": 7,\n        \"samples\": [\n          200000.0,\n          1.684535,\n          2.0\n        ],\n        \"semantic_type\": \"\",\n        \"description\": \"\"\n      }\n    }\n  ]\n}"
            }
          },
          "metadata": {},
          "execution_count": 479
        }
      ]
    },
    {
      "cell_type": "code",
      "source": [
        "#check null values\n",
        "data.isnull().sum()"
      ],
      "metadata": {
        "colab": {
          "base_uri": "https://localhost:8080/"
        },
        "id": "PfkMuWrShFgj",
        "outputId": "dba95b85-1b92-4ef4-9e01-b70802e60a9a"
      },
      "execution_count": 480,
      "outputs": [
        {
          "output_type": "execute_result",
          "data": {
            "text/plain": [
              "Unnamed: 0           0\n",
              "key                  0\n",
              "fare_amount          0\n",
              "pickup_datetime      0\n",
              "pickup_longitude     0\n",
              "pickup_latitude      0\n",
              "dropoff_longitude    1\n",
              "dropoff_latitude     1\n",
              "passenger_count      0\n",
              "dtype: int64"
            ]
          },
          "metadata": {},
          "execution_count": 480
        }
      ]
    },
    {
      "cell_type": "code",
      "source": [
        "#replace null with mean or median\n",
        "data['dropoff_longitude'].fillna(data['dropoff_longitude'].mean(),inplace=True)\n",
        "data['dropoff_latitude'].fillna(data['dropoff_latitude'].mean(),inplace=True)"
      ],
      "metadata": {
        "id": "pAs3m-42hVhz"
      },
      "execution_count": 481,
      "outputs": []
    },
    {
      "cell_type": "markdown",
      "source": [
        "#Step-3: Data Handing and Preprocessing"
      ],
      "metadata": {
        "id": "GfJ7ihDxoNhI"
      }
    },
    {
      "cell_type": "code",
      "source": [
        "data.info()"
      ],
      "metadata": {
        "colab": {
          "base_uri": "https://localhost:8080/"
        },
        "id": "O7929KGaht-i",
        "outputId": "375c4565-7da0-455a-e854-ff5b10916921"
      },
      "execution_count": 482,
      "outputs": [
        {
          "output_type": "stream",
          "name": "stdout",
          "text": [
            "<class 'pandas.core.frame.DataFrame'>\n",
            "RangeIndex: 200000 entries, 0 to 199999\n",
            "Data columns (total 9 columns):\n",
            " #   Column             Non-Null Count   Dtype  \n",
            "---  ------             --------------   -----  \n",
            " 0   Unnamed: 0         200000 non-null  int64  \n",
            " 1   key                200000 non-null  object \n",
            " 2   fare_amount        200000 non-null  float64\n",
            " 3   pickup_datetime    200000 non-null  object \n",
            " 4   pickup_longitude   200000 non-null  float64\n",
            " 5   pickup_latitude    200000 non-null  float64\n",
            " 6   dropoff_longitude  200000 non-null  float64\n",
            " 7   dropoff_latitude   200000 non-null  float64\n",
            " 8   passenger_count    200000 non-null  int64  \n",
            "dtypes: float64(5), int64(2), object(2)\n",
            "memory usage: 13.7+ MB\n"
          ]
        }
      ]
    },
    {
      "cell_type": "code",
      "source": [
        "#convert object into datetime (pickup_datetime)\n",
        "data['pickup_datetime'] = pd.to_datetime(data['pickup_datetime'])\n",
        "data.dtypes"
      ],
      "metadata": {
        "colab": {
          "base_uri": "https://localhost:8080/"
        },
        "id": "1o4dxOpGhwga",
        "outputId": "9fc2ff10-52a8-4556-bbe5-2ab0f4386263"
      },
      "execution_count": 483,
      "outputs": [
        {
          "output_type": "execute_result",
          "data": {
            "text/plain": [
              "Unnamed: 0                         int64\n",
              "key                               object\n",
              "fare_amount                      float64\n",
              "pickup_datetime      datetime64[ns, UTC]\n",
              "pickup_longitude                 float64\n",
              "pickup_latitude                  float64\n",
              "dropoff_longitude                float64\n",
              "dropoff_latitude                 float64\n",
              "passenger_count                    int64\n",
              "dtype: object"
            ]
          },
          "metadata": {},
          "execution_count": 483
        }
      ]
    },
    {
      "cell_type": "markdown",
      "source": [
        "##Step-4: EDA Analysis of the Dataset"
      ],
      "metadata": {
        "id": "rGpzdGu0okRq"
      }
    },
    {
      "cell_type": "code",
      "source": [
        "#distribution of fare amounts\n",
        "sns.distplot(data['fare_amount'])"
      ],
      "metadata": {
        "colab": {
          "base_uri": "https://localhost:8080/",
          "height": 467
        },
        "id": "Wa6Xm_QsoexV",
        "outputId": "097f67cc-dfbf-4a98-f4f4-ba3b9f3bb2e1"
      },
      "execution_count": 484,
      "outputs": [
        {
          "output_type": "execute_result",
          "data": {
            "text/plain": [
              "<Axes: xlabel='fare_amount', ylabel='Density'>"
            ]
          },
          "metadata": {},
          "execution_count": 484
        },
        {
          "output_type": "display_data",
          "data": {
            "text/plain": [
              "<Figure size 640x480 with 1 Axes>"
            ],
            "image/png": "[encoded data removed]"
          },
          "metadata": {}
        }
      ]
    },
    {
      "cell_type": "code",
      "source": [
        "#distribution of pickup_latitude\n",
        "sns.distplot(data['pickup_latitude'])\n",
        ""
      ],
      "metadata": {
        "colab": {
          "base_uri": "https://localhost:8080/",
          "height": 467
        },
        "id": "AOlUXjT8opoe",
        "outputId": "a90684ca-c9d9-4697-b2fb-9ba65f89c486"
      },
      "execution_count": 485,
      "outputs": [
        {
          "output_type": "execute_result",
          "data": {
            "text/plain": [
              "<Axes: xlabel='pickup_latitude', ylabel='Density'>"
            ]
          },
          "metadata": {},
          "execution_count": 485
        },
        {
          "output_type": "display_data",
          "data": {
            "text/plain": [
              "<Figure size 640x480 with 1 Axes>"
            ],
            "image/png": "[encoded data removed]"
          },
          "metadata": {}
        }
      ]
    },
    {
      "cell_type": "code",
      "source": [
        "#distribution of pickup_longitude\n",
        "sns.distplot(data['pickup_longitude'])"
      ],
      "metadata": {
        "colab": {
          "base_uri": "https://localhost:8080/",
          "height": 467
        },
        "id": "SEGwAs0iovZh",
        "outputId": "d4e60162-7696-4ae8-dbf3-727bbf0b7fbc"
      },
      "execution_count": 486,
      "outputs": [
        {
          "output_type": "execute_result",
          "data": {
            "text/plain": [
              "<Axes: xlabel='pickup_longitude', ylabel='Density'>"
            ]
          },
          "metadata": {},
          "execution_count": 486
        },
        {
          "output_type": "display_data",
          "data": {
            "text/plain": [
              "<Figure size 640x480 with 1 Axes>"
            ],
            "image/png": "[encoded data removed]"
          },
          "metadata": {}
        }
      ]
    },
    {
      "cell_type": "code",
      "source": [
        "#display records where fare amount is greater than zero\n",
        "data=data[data['fare_amount']>0]"
      ],
      "metadata": {
        "id": "S78u3a63pI6u"
      },
      "execution_count": 487,
      "outputs": []
    },
    {
      "cell_type": "code",
      "source": [
        "#display records where fare amount is less than zero\n",
        "data[data['fare_amount']<0]\n",
        ""
      ],
      "metadata": {
        "colab": {
          "base_uri": "https://localhost:8080/",
          "height": 53
        },
        "id": "Pg10RoorpFPe",
        "outputId": "b0795374-d716-4293-8123-b2d1b259927a"
      },
      "execution_count": 488,
      "outputs": [
        {
          "output_type": "execute_result",
          "data": {
            "text/plain": [
              "Empty DataFrame\n",
              "Columns: [Unnamed: 0, key, fare_amount, pickup_datetime, pickup_longitude, pickup_latitude, dropoff_longitude, dropoff_latitude, passenger_count]\n",
              "Index: []"
            ],
            "text/html": [
              "\n",
              "  <div id=\"df-74860f58-0283-449d-9640-a5e837cb0d90\" class=\"colab-df-container\">\n",
              "    <div>\n",
              "<style scoped>\n",
              "    .dataframe tbody tr th:only-of-type {\n",
              "        vertical-align: middle;\n",
              "    }\n",
              "\n",
              "    .dataframe tbody tr th {\n",
              "        vertical-align: top;\n",
              "    }\n",
              "\n",
              "    .dataframe thead th {\n",
              "        text-align: right;\n",
              "    }\n",
              "</style>\n",
              "<table border=\"1\" class=\"dataframe\">\n",
              "  <thead>\n",
              "    <tr style=\"text-align: right;\">\n",
              "      <th></th>\n",
              "      <th>Unnamed: 0</th>\n",
              "      <th>key</th>\n",
              "      <th>fare_amount</th>\n",
              "      <th>pickup_datetime</th>\n",
              "      <th>pickup_longitude</th>\n",
              "      <th>pickup_latitude</th>\n",
              "      <th>dropoff_longitude</th>\n",
              "      <th>dropoff_latitude</th>\n",
              "      <th>passenger_count</th>\n",
              "    </tr>\n",
              "  </thead>\n",
              "  <tbody>\n",
              "  </tbody>\n",
              "</table>\n",
              "</div>\n",
              "    <div class=\"colab-df-buttons\">\n",
              "\n",
              "  <div class=\"colab-df-container\">\n",
              "    <button class=\"colab-df-convert\" onclick=\"convertToInteractive('df-74860f58-0283-449d-9640-a5e837cb0d90')\"\n",
              "            title=\"Convert this dataframe to an interactive table.\"\n",
              "            style=\"display:none;\">\n",
              "\n",
              "  <svg xmlns=\"http://www.w3.org/2000/svg\" height=\"24px\" viewBox=\"0 -960 960 960\">\n",
              "    <path d=\"M120-120v-720h720v720H120Zm60-500h600v-160H180v160Zm220 220h160v-160H400v160Zm0 220h160v-160H400v160ZM180-400h160v-160H180v160Zm440 0h160v-160H620v160ZM180-180h160v-160H180v160Zm440 0h160v-160H620v160Z\"/>\n",
              "  </svg>\n",
              "    </button>\n",
              "\n",
              "  <style>\n",
              "    .colab-df-container {\n",
              "      display:flex;\n",
              "      gap: 12px;\n",
              "    }\n",
              "\n",
              "    .colab-df-convert {\n",
              "      background-color: #E8F0FE;\n",
              "      border: none;\n",
              "      border-radius: 50%;\n",
              "      cursor: pointer;\n",
              "      display: none;\n",
              "      fill: #1967D2;\n",
              "      height: 32px;\n",
              "      padding: 0 0 0 0;\n",
              "      width: 32px;\n",
              "    }\n",
              "\n",
              "    .colab-df-convert:hover {\n",
              "      background-color: #E2EBFA;\n",
              "      box-shadow: 0px 1px 2px rgba(60, 64, 67, 0.3), 0px 1px 3px 1px rgba(60, 64, 67, 0.15);\n",
              "      fill: #174EA6;\n",
              "    }\n",
              "\n",
              "    .colab-df-buttons div {\n",
              "      margin-bottom: 4px;\n",
              "    }\n",
              "\n",
              "    [theme=dark] .colab-df-convert {\n",
              "      background-color: #3B4455;\n",
              "      fill: #D2E3FC;\n",
              "    }\n",
              "\n",
              "    [theme=dark] .colab-df-convert:hover {\n",
              "      background-color: #434B5C;\n",
              "      box-shadow: 0px 1px 3px 1px rgba(0, 0, 0, 0.15);\n",
              "      filter: drop-shadow(0px 1px 2px rgba(0, 0, 0, 0.3));\n",
              "      fill: #FFFFFF;\n",
              "    }\n",
              "  </style>\n",
              "\n",
              "    <script>\n",
              "      const buttonEl =\n",
              "        document.querySelector('#df-74860f58-0283-449d-9640-a5e837cb0d90 button.colab-df-convert');\n",
              "      buttonEl.style.display =\n",
              "        google.colab.kernel.accessAllowed ? 'block' : 'none';\n",
              "\n",
              "      async function convertToInteractive(key) {\n",
              "        const element = document.querySelector('#df-74860f58-0283-449d-9640-a5e837cb0d90');\n",
              "        const dataTable =\n",
              "          await google.colab.kernel.invokeFunction('convertToInteractive',\n",
              "                                                    [key], {});\n",
              "        if (!dataTable) return;\n",
              "\n",
              "        const docLinkHtml = 'Like what you see? Visit the ' +\n",
              "          '<a target=\"_blank\" href=https://colab.research.google.com/notebooks/data_table.ipynb>data table notebook</a>'\n",
              "          + ' to learn more about interactive tables.';\n",
              "        element.innerHTML = '';\n",
              "        dataTable['output_type'] = 'display_data';\n",
              "        await google.colab.output.renderOutput(dataTable, element);\n",
              "        const docLink = document.createElement('div');\n",
              "        docLink.innerHTML = docLinkHtml;\n",
              "        element.appendChild(docLink);\n",
              "      }\n",
              "    </script>\n",
              "  </div>\n",
              "\n",
              "\n",
              "    </div>\n",
              "  </div>\n"
            ],
            "application/vnd.google.colaboratory.intrinsic+json": {
              "type": "dataframe",
              "repr_error": "Out of range float values are not JSON compliant: nan"
            }
          },
          "metadata": {},
          "execution_count": 488
        }
      ]
    },
    {
      "cell_type": "code",
      "source": [
        "#Calculate the first quartile (Q1) for the 'fare_amount' column\n",
        "#calculate value below which 25% of the data falls\n",
        "q1= data['fare_amount'].quantile(0.25)\n",
        "q1"
      ],
      "metadata": {
        "colab": {
          "base_uri": "https://localhost:8080/"
        },
        "id": "ZLgMiA3SpTkB",
        "outputId": "6b4589ef-3826-4c80-dbff-1ab022b373a5"
      },
      "execution_count": 489,
      "outputs": [
        {
          "output_type": "execute_result",
          "data": {
            "text/plain": [
              "6.0"
            ]
          },
          "metadata": {},
          "execution_count": 489
        }
      ]
    },
    {
      "cell_type": "code",
      "source": [
        "# Calculate the third quartile (Q3) for the 'fare_amount' column\n",
        "#calculate value below which 75% of the data falls\n",
        "q3 =data['fare_amount'].quantile(0.75)\n",
        "q3"
      ],
      "metadata": {
        "colab": {
          "base_uri": "https://localhost:8080/"
        },
        "id": "kZsje2wnpa8e",
        "outputId": "8bddcb19-d3d6-41cb-c587-2c68fce24138"
      },
      "execution_count": 490,
      "outputs": [
        {
          "output_type": "execute_result",
          "data": {
            "text/plain": [
              "12.5"
            ]
          },
          "metadata": {},
          "execution_count": 490
        }
      ]
    },
    {
      "cell_type": "markdown",
      "source": [
        "# Step-5: Feature Engineering#"
      ],
      "metadata": {
        "id": "1o2GDHMtIF_v"
      }
    },
    {
      "cell_type": "code",
      "source": [
        "data=data.assign(hour= data['pickup_datetime'].dt.hour,\n",
        "                 day= data['pickup_datetime'].dt.day,\n",
        "                 month= data['pickup_datetime'].dt.month,\n",
        "                 year= data['pickup_datetime'].dt.year,\n",
        "                 weekday= data['pickup_datetime'].dt.weekday)\n",
        "data.head()"
      ],
      "metadata": {
        "colab": {
          "base_uri": "https://localhost:8080/",
          "height": 330
        },
        "id": "CBHWm9gyiJWC",
        "outputId": "62caa192-e95f-4e34-ea76-783f5028f011"
      },
      "execution_count": 491,
      "outputs": [
        {
          "output_type": "execute_result",
          "data": {
            "text/plain": [
              "   Unnamed: 0                            key  fare_amount  \\\n",
              "0    24238194    2015-05-07 19:52:06.0000003          7.5   \n",
              "1    27835199    2009-07-17 20:04:56.0000002          7.7   \n",
              "2    44984355   2009-08-24 21:45:00.00000061         12.9   \n",
              "3    25894730    2009-06-26 08:22:21.0000001          5.3   \n",
              "4    17610152  2014-08-28 17:47:00.000000188         16.0   \n",
              "\n",
              "            pickup_datetime  pickup_longitude  pickup_latitude  \\\n",
              "0 2015-05-07 19:52:06+00:00        -73.999817        40.738354   \n",
              "1 2009-07-17 20:04:56+00:00        -73.994355        40.728225   \n",
              "2 2009-08-24 21:45:00+00:00        -74.005043        40.740770   \n",
              "3 2009-06-26 08:22:21+00:00        -73.976124        40.790844   \n",
              "4 2014-08-28 17:47:00+00:00        -73.925023        40.744085   \n",
              "\n",
              "   dropoff_longitude  dropoff_latitude  passenger_count  hour  day  month  \\\n",
              "0         -73.999512         40.723217                1    19    7      5   \n",
              "1         -73.994710         40.750325                1    20   17      7   \n",
              "2         -73.962565         40.772647                1    21   24      8   \n",
              "3         -73.965316         40.803349                3     8   26      6   \n",
              "4         -73.973082         40.761247                5    17   28      8   \n",
              "\n",
              "   year  weekday  \n",
              "0  2015        3  \n",
              "1  2009        4  \n",
              "2  2009        0  \n",
              "3  2009        4  \n",
              "4  2014        3  "
            ],
            "text/html": [
              "\n",
              "  <div id=\"df-e4f3077f-93c2-4ea3-ac06-9a9c7d234f2d\" class=\"colab-df-container\">\n",
              "    <div>\n",
              "<style scoped>\n",
              "    .dataframe tbody tr th:only-of-type {\n",
              "        vertical-align: middle;\n",
              "    }\n",
              "\n",
              "    .dataframe tbody tr th {\n",
              "        vertical-align: top;\n",
              "    }\n",
              "\n",
              "    .dataframe thead th {\n",
              "        text-align: right;\n",
              "    }\n",
              "</style>\n",
              "<table border=\"1\" class=\"dataframe\">\n",
              "  <thead>\n",
              "    <tr style=\"text-align: right;\">\n",
              "      <th></th>\n",
              "      <th>Unnamed: 0</th>\n",
              "      <th>key</th>\n",
              "      <th>fare_amount</th>\n",
              "      <th>pickup_datetime</th>\n",
              "      <th>pickup_longitude</th>\n",
              "      <th>pickup_latitude</th>\n",
              "      <th>dropoff_longitude</th>\n",
              "      <th>dropoff_latitude</th>\n",
              "      <th>passenger_count</th>\n",
              "      <th>hour</th>\n",
              "      <th>day</th>\n",
              "      <th>month</th>\n",
              "      <th>year</th>\n",
              "      <th>weekday</th>\n",
              "    </tr>\n",
              "  </thead>\n",
              "  <tbody>\n",
              "    <tr>\n",
              "      <th>0</th>\n",
              "      <td>24238194</td>\n",
              "      <td>2015-05-07 19:52:06.0000003</td>\n",
              "      <td>7.5</td>\n",
              "      <td>2015-05-07 19:52:06+00:00</td>\n",
              "      <td>-73.999817</td>\n",
              "      <td>40.738354</td>\n",
              "      <td>-73.999512</td>\n",
              "      <td>40.723217</td>\n",
              "      <td>1</td>\n",
              "      <td>19</td>\n",
              "      <td>7</td>\n",
              "      <td>5</td>\n",
              "      <td>2015</td>\n",
              "      <td>3</td>\n",
              "    </tr>\n",
              "    <tr>\n",
              "      <th>1</th>\n",
              "      <td>27835199</td>\n",
              "      <td>2009-07-17 20:04:56.0000002</td>\n",
              "      <td>7.7</td>\n",
              "      <td>2009-07-17 20:04:56+00:00</td>\n",
              "      <td>-73.994355</td>\n",
              "      <td>40.728225</td>\n",
              "      <td>-73.994710</td>\n",
              "      <td>40.750325</td>\n",
              "      <td>1</td>\n",
              "      <td>20</td>\n",
              "      <td>17</td>\n",
              "      <td>7</td>\n",
              "      <td>2009</td>\n",
              "      <td>4</td>\n",
              "    </tr>\n",
              "    <tr>\n",
              "      <th>2</th>\n",
              "      <td>44984355</td>\n",
              "      <td>2009-08-24 21:45:00.00000061</td>\n",
              "      <td>12.9</td>\n",
              "      <td>2009-08-24 21:45:00+00:00</td>\n",
              "      <td>-74.005043</td>\n",
              "      <td>40.740770</td>\n",
              "      <td>-73.962565</td>\n",
              "      <td>40.772647</td>\n",
              "      <td>1</td>\n",
              "      <td>21</td>\n",
              "      <td>24</td>\n",
              "      <td>8</td>\n",
              "      <td>2009</td>\n",
              "      <td>0</td>\n",
              "    </tr>\n",
              "    <tr>\n",
              "      <th>3</th>\n",
              "      <td>25894730</td>\n",
              "      <td>2009-06-26 08:22:21.0000001</td>\n",
              "      <td>5.3</td>\n",
              "      <td>2009-06-26 08:22:21+00:00</td>\n",
              "      <td>-73.976124</td>\n",
              "      <td>40.790844</td>\n",
              "      <td>-73.965316</td>\n",
              "      <td>40.803349</td>\n",
              "      <td>3</td>\n",
              "      <td>8</td>\n",
              "      <td>26</td>\n",
              "      <td>6</td>\n",
              "      <td>2009</td>\n",
              "      <td>4</td>\n",
              "    </tr>\n",
              "    <tr>\n",
              "      <th>4</th>\n",
              "      <td>17610152</td>\n",
              "      <td>2014-08-28 17:47:00.000000188</td>\n",
              "      <td>16.0</td>\n",
              "      <td>2014-08-28 17:47:00+00:00</td>\n",
              "      <td>-73.925023</td>\n",
              "      <td>40.744085</td>\n",
              "      <td>-73.973082</td>\n",
              "      <td>40.761247</td>\n",
              "      <td>5</td>\n",
              "      <td>17</td>\n",
              "      <td>28</td>\n",
              "      <td>8</td>\n",
              "      <td>2014</td>\n",
              "      <td>3</td>\n",
              "    </tr>\n",
              "  </tbody>\n",
              "</table>\n",
              "</div>\n",
              "    <div class=\"colab-df-buttons\">\n",
              "\n",
              "  <div class=\"colab-df-container\">\n",
              "    <button class=\"colab-df-convert\" onclick=\"convertToInteractive('df-e4f3077f-93c2-4ea3-ac06-9a9c7d234f2d')\"\n",
              "            title=\"Convert this dataframe to an interactive table.\"\n",
              "            style=\"display:none;\">\n",
              "\n",
              "  <svg xmlns=\"http://www.w3.org/2000/svg\" height=\"24px\" viewBox=\"0 -960 960 960\">\n",
              "    <path d=\"M120-120v-720h720v720H120Zm60-500h600v-160H180v160Zm220 220h160v-160H400v160Zm0 220h160v-160H400v160ZM180-400h160v-160H180v160Zm440 0h160v-160H620v160ZM180-180h160v-160H180v160Zm440 0h160v-160H620v160Z\"/>\n",
              "  </svg>\n",
              "    </button>\n",
              "\n",
              "  <style>\n",
              "    .colab-df-container {\n",
              "      display:flex;\n",
              "      gap: 12px;\n",
              "    }\n",
              "\n",
              "    .colab-df-convert {\n",
              "      background-color: #E8F0FE;\n",
              "      border: none;\n",
              "      border-radius: 50%;\n",
              "      cursor: pointer;\n",
              "      display: none;\n",
              "      fill: #1967D2;\n",
              "      height: 32px;\n",
              "      padding: 0 0 0 0;\n",
              "      width: 32px;\n",
              "    }\n",
              "\n",
              "    .colab-df-convert:hover {\n",
              "      background-color: #E2EBFA;\n",
              "      box-shadow: 0px 1px 2px rgba(60, 64, 67, 0.3), 0px 1px 3px 1px rgba(60, 64, 67, 0.15);\n",
              "      fill: #174EA6;\n",
              "    }\n",
              "\n",
              "    .colab-df-buttons div {\n",
              "      margin-bottom: 4px;\n",
              "    }\n",
              "\n",
              "    [theme=dark] .colab-df-convert {\n",
              "      background-color: #3B4455;\n",
              "      fill: #D2E3FC;\n",
              "    }\n",
              "\n",
              "    [theme=dark] .colab-df-convert:hover {\n",
              "      background-color: #434B5C;\n",
              "      box-shadow: 0px 1px 3px 1px rgba(0, 0, 0, 0.15);\n",
              "      filter: drop-shadow(0px 1px 2px rgba(0, 0, 0, 0.3));\n",
              "      fill: #FFFFFF;\n",
              "    }\n",
              "  </style>\n",
              "\n",
              "    <script>\n",
              "      const buttonEl =\n",
              "        document.querySelector('#df-e4f3077f-93c2-4ea3-ac06-9a9c7d234f2d button.colab-df-convert');\n",
              "      buttonEl.style.display =\n",
              "        google.colab.kernel.accessAllowed ? 'block' : 'none';\n",
              "\n",
              "      async function convertToInteractive(key) {\n",
              "        const element = document.querySelector('#df-e4f3077f-93c2-4ea3-ac06-9a9c7d234f2d');\n",
              "        const dataTable =\n",
              "          await google.colab.kernel.invokeFunction('convertToInteractive',\n",
              "                                                    [key], {});\n",
              "        if (!dataTable) return;\n",
              "\n",
              "        const docLinkHtml = 'Like what you see? Visit the ' +\n",
              "          '<a target=\"_blank\" href=https://colab.research.google.com/notebooks/data_table.ipynb>data table notebook</a>'\n",
              "          + ' to learn more about interactive tables.';\n",
              "        element.innerHTML = '';\n",
              "        dataTable['output_type'] = 'display_data';\n",
              "        await google.colab.output.renderOutput(dataTable, element);\n",
              "        const docLink = document.createElement('div');\n",
              "        docLink.innerHTML = docLinkHtml;\n",
              "        element.appendChild(docLink);\n",
              "      }\n",
              "    </script>\n",
              "  </div>\n",
              "\n",
              "\n",
              "<div id=\"df-01cd9453-27bd-4eed-9823-b5e5680184e8\">\n",
              "  <button class=\"colab-df-quickchart\" onclick=\"quickchart('df-01cd9453-27bd-4eed-9823-b5e5680184e8')\"\n",
              "            title=\"Suggest charts\"\n",
              "            style=\"display:none;\">\n",
              "\n",
              "<svg xmlns=\"http://www.w3.org/2000/svg\" height=\"24px\"viewBox=\"0 0 24 24\"\n",
              "     width=\"24px\">\n",
              "    <g>\n",
              "        <path d=\"M19 3H5c-1.1 0-2 .9-2 2v14c0 1.1.9 2 2 2h14c1.1 0 2-.9 2-2V5c0-1.1-.9-2-2-2zM9 17H7v-7h2v7zm4 0h-2V7h2v10zm4 0h-2v-4h2v4z\"/>\n",
              "    </g>\n",
              "</svg>\n",
              "  </button>\n",
              "\n",
              "<style>\n",
              "  .colab-df-quickchart {\n",
              "      --bg-color: #E8F0FE;\n",
              "      --fill-color: #1967D2;\n",
              "      --hover-bg-color: #E2EBFA;\n",
              "      --hover-fill-color: #174EA6;\n",
              "      --disabled-fill-color: #AAA;\n",
              "      --disabled-bg-color: #DDD;\n",
              "  }\n",
              "\n",
              "  [theme=dark] .colab-df-quickchart {\n",
              "      --bg-color: #3B4455;\n",
              "      --fill-color: #D2E3FC;\n",
              "      --hover-bg-color: #434B5C;\n",
              "      --hover-fill-color: #FFFFFF;\n",
              "      --disabled-bg-color: #3B4455;\n",
              "      --disabled-fill-color: #666;\n",
              "  }\n",
              "\n",
              "  .colab-df-quickchart {\n",
              "    background-color: var(--bg-color);\n",
              "    border: none;\n",
              "    border-radius: 50%;\n",
              "    cursor: pointer;\n",
              "    display: none;\n",
              "    fill: var(--fill-color);\n",
              "    height: 32px;\n",
              "    padding: 0;\n",
              "    width: 32px;\n",
              "  }\n",
              "\n",
              "  .colab-df-quickchart:hover {\n",
              "    background-color: var(--hover-bg-color);\n",
              "    box-shadow: 0 1px 2px rgba(60, 64, 67, 0.3), 0 1px 3px 1px rgba(60, 64, 67, 0.15);\n",
              "    fill: var(--button-hover-fill-color);\n",
              "  }\n",
              "\n",
              "  .colab-df-quickchart-complete:disabled,\n",
              "  .colab-df-quickchart-complete:disabled:hover {\n",
              "    background-color: var(--disabled-bg-color);\n",
              "    fill: var(--disabled-fill-color);\n",
              "    box-shadow: none;\n",
              "  }\n",
              "\n",
              "  .colab-df-spinner {\n",
              "    border: 2px solid var(--fill-color);\n",
              "    border-color: transparent;\n",
              "    border-bottom-color: var(--fill-color);\n",
              "    animation:\n",
              "      spin 1s steps(1) infinite;\n",
              "  }\n",
              "\n",
              "  @keyframes spin {\n",
              "    0% {\n",
              "      border-color: transparent;\n",
              "      border-bottom-color: var(--fill-color);\n",
              "      border-left-color: var(--fill-color);\n",
              "    }\n",
              "    20% {\n",
              "      border-color: transparent;\n",
              "      border-left-color: var(--fill-color);\n",
              "      border-top-color: var(--fill-color);\n",
              "    }\n",
              "    30% {\n",
              "      border-color: transparent;\n",
              "      border-left-color: var(--fill-color);\n",
              "      border-top-color: var(--fill-color);\n",
              "      border-right-color: var(--fill-color);\n",
              "    }\n",
              "    40% {\n",
              "      border-color: transparent;\n",
              "      border-right-color: var(--fill-color);\n",
              "      border-top-color: var(--fill-color);\n",
              "    }\n",
              "    60% {\n",
              "      border-color: transparent;\n",
              "      border-right-color: var(--fill-color);\n",
              "    }\n",
              "    80% {\n",
              "      border-color: transparent;\n",
              "      border-right-color: var(--fill-color);\n",
              "      border-bottom-color: var(--fill-color);\n",
              "    }\n",
              "    90% {\n",
              "      border-color: transparent;\n",
              "      border-bottom-color: var(--fill-color);\n",
              "    }\n",
              "  }\n",
              "</style>\n",
              "\n",
              "  <script>\n",
              "    async function quickchart(key) {\n",
              "      const quickchartButtonEl =\n",
              "        document.querySelector('#' + key + ' button');\n",
              "      quickchartButtonEl.disabled = true;  // To prevent multiple clicks.\n",
              "      quickchartButtonEl.classList.add('colab-df-spinner');\n",
              "      try {\n",
              "        const charts = await google.colab.kernel.invokeFunction(\n",
              "            'suggestCharts', [key], {});\n",
              "      } catch (error) {\n",
              "        console.error('Error during call to suggestCharts:', error);\n",
              "      }\n",
              "      quickchartButtonEl.classList.remove('colab-df-spinner');\n",
              "      quickchartButtonEl.classList.add('colab-df-quickchart-complete');\n",
              "    }\n",
              "    (() => {\n",
              "      let quickchartButtonEl =\n",
              "        document.querySelector('#df-01cd9453-27bd-4eed-9823-b5e5680184e8 button');\n",
              "      quickchartButtonEl.style.display =\n",
              "        google.colab.kernel.accessAllowed ? 'block' : 'none';\n",
              "    })();\n",
              "  </script>\n",
              "</div>\n",
              "\n",
              "    </div>\n",
              "  </div>\n"
            ],
            "application/vnd.google.colaboratory.intrinsic+json": {
              "type": "dataframe",
              "variable_name": "data"
            }
          },
          "metadata": {},
          "execution_count": 491
        }
      ]
    },
    {
      "cell_type": "code",
      "source": [
        "#Calculate the Interquartile Range (IQR) for the 'fare_amount' column\n",
        "IQR = q3-q1\n",
        "IQR\n",
        ""
      ],
      "metadata": {
        "colab": {
          "base_uri": "https://localhost:8080/"
        },
        "id": "uy7PH0nmpeoj",
        "outputId": "e4ad1edd-1c26-460a-aeb4-62da3328213b"
      },
      "execution_count": 492,
      "outputs": [
        {
          "output_type": "execute_result",
          "data": {
            "text/plain": [
              "6.5"
            ]
          },
          "metadata": {},
          "execution_count": 492
        }
      ]
    },
    {
      "cell_type": "code",
      "source": [
        "#Calculate the lower bound for outliers using the IQR method\n",
        "#The lower bound is computed as Q1 minus 1.5 times the Interquartile Range (IQR)\n",
        "lower_bound = q1-1.5*q3\n",
        "lower_bound"
      ],
      "metadata": {
        "colab": {
          "base_uri": "https://localhost:8080/"
        },
        "id": "wIHUEYPyphPL",
        "outputId": "c7ef151e-1f25-4c57-a048-eb511e6f71cf"
      },
      "execution_count": 493,
      "outputs": [
        {
          "output_type": "execute_result",
          "data": {
            "text/plain": [
              "-12.75"
            ]
          },
          "metadata": {},
          "execution_count": 493
        }
      ]
    },
    {
      "cell_type": "code",
      "source": [
        "#Calculate the upper bound for outliers using the IQR method\n",
        "#The upper bound is computed as Q3 plus 1.5 times the Interquartile Range (IQR)\n",
        "upper_bound =q1+1.5*q3\n",
        "upper_bound"
      ],
      "metadata": {
        "colab": {
          "base_uri": "https://localhost:8080/"
        },
        "id": "hrOpsZWsph5V",
        "outputId": "3d8e4cfd-0e02-4bc2-97ef-9096b9ed57c9"
      },
      "execution_count": 494,
      "outputs": [
        {
          "output_type": "execute_result",
          "data": {
            "text/plain": [
              "24.75"
            ]
          },
          "metadata": {},
          "execution_count": 494
        }
      ]
    },
    {
      "cell_type": "code",
      "source": [
        "def haversine_distance(lat1, lon1, lat2, lon2):\n",
        "    lat1, lon1, lat2, lon2 = map(np.radians, [lat1, lon1, lat2, lon2])\n",
        "    dlon = lon2 - lon1\n",
        "    dlat = lat2 - lat1\n",
        "    a = np.sin(dlat/2)**2 + np.cos(lat1) * np.cos(lat2) * np.sin(dlon/2)**2\n",
        "    c = 2 * np.arcsin(np.sqrt(a))\n",
        "    km = 6371 * c\n",
        "    return km\n",
        "data['Distance_km'] = haversine_distance(data['pickup_latitude'],data['pickup_longitude'],\n",
        "                                      data['dropoff_latitude'],data['dropoff_longitude'])\n",
        "data.head()"
      ],
      "metadata": {
        "colab": {
          "base_uri": "https://localhost:8080/",
          "height": 330
        },
        "id": "PzFsQ0wai9Tw",
        "outputId": "4bcd279f-d563-4658-d68e-87e78ce79186"
      },
      "execution_count": 495,
      "outputs": [
        {
          "output_type": "execute_result",
          "data": {
            "text/plain": [
              "   Unnamed: 0                            key  fare_amount  \\\n",
              "0    24238194    2015-05-07 19:52:06.0000003          7.5   \n",
              "1    27835199    2009-07-17 20:04:56.0000002          7.7   \n",
              "2    44984355   2009-08-24 21:45:00.00000061         12.9   \n",
              "3    25894730    2009-06-26 08:22:21.0000001          5.3   \n",
              "4    17610152  2014-08-28 17:47:00.000000188         16.0   \n",
              "\n",
              "            pickup_datetime  pickup_longitude  pickup_latitude  \\\n",
              "0 2015-05-07 19:52:06+00:00        -73.999817        40.738354   \n",
              "1 2009-07-17 20:04:56+00:00        -73.994355        40.728225   \n",
              "2 2009-08-24 21:45:00+00:00        -74.005043        40.740770   \n",
              "3 2009-06-26 08:22:21+00:00        -73.976124        40.790844   \n",
              "4 2014-08-28 17:47:00+00:00        -73.925023        40.744085   \n",
              "\n",
              "   dropoff_longitude  dropoff_latitude  passenger_count  hour  day  month  \\\n",
              "0         -73.999512         40.723217                1    19    7      5   \n",
              "1         -73.994710         40.750325                1    20   17      7   \n",
              "2         -73.962565         40.772647                1    21   24      8   \n",
              "3         -73.965316         40.803349                3     8   26      6   \n",
              "4         -73.973082         40.761247                5    17   28      8   \n",
              "\n",
              "   year  weekday  Distance_km  \n",
              "0  2015        3     1.683323  \n",
              "1  2009        4     2.457590  \n",
              "2  2009        0     5.036377  \n",
              "3  2009        4     1.661683  \n",
              "4  2014        3     4.475450  "
            ],
            "text/html": [
              "\n",
              "  <div id=\"df-c5d14a67-2b49-468f-b335-9e3bfb8c410d\" class=\"colab-df-container\">\n",
              "    <div>\n",
              "<style scoped>\n",
              "    .dataframe tbody tr th:only-of-type {\n",
              "        vertical-align: middle;\n",
              "    }\n",
              "\n",
              "    .dataframe tbody tr th {\n",
              "        vertical-align: top;\n",
              "    }\n",
              "\n",
              "    .dataframe thead th {\n",
              "        text-align: right;\n",
              "    }\n",
              "</style>\n",
              "<table border=\"1\" class=\"dataframe\">\n",
              "  <thead>\n",
              "    <tr style=\"text-align: right;\">\n",
              "      <th></th>\n",
              "      <th>Unnamed: 0</th>\n",
              "      <th>key</th>\n",
              "      <th>fare_amount</th>\n",
              "      <th>pickup_datetime</th>\n",
              "      <th>pickup_longitude</th>\n",
              "      <th>pickup_latitude</th>\n",
              "      <th>dropoff_longitude</th>\n",
              "      <th>dropoff_latitude</th>\n",
              "      <th>passenger_count</th>\n",
              "      <th>hour</th>\n",
              "      <th>day</th>\n",
              "      <th>month</th>\n",
              "      <th>year</th>\n",
              "      <th>weekday</th>\n",
              "      <th>Distance_km</th>\n",
              "    </tr>\n",
              "  </thead>\n",
              "  <tbody>\n",
              "    <tr>\n",
              "      <th>0</th>\n",
              "      <td>24238194</td>\n",
              "      <td>2015-05-07 19:52:06.0000003</td>\n",
              "      <td>7.5</td>\n",
              "      <td>2015-05-07 19:52:06+00:00</td>\n",
              "      <td>-73.999817</td>\n",
              "      <td>40.738354</td>\n",
              "      <td>-73.999512</td>\n",
              "      <td>40.723217</td>\n",
              "      <td>1</td>\n",
              "      <td>19</td>\n",
              "      <td>7</td>\n",
              "      <td>5</td>\n",
              "      <td>2015</td>\n",
              "      <td>3</td>\n",
              "      <td>1.683323</td>\n",
              "    </tr>\n",
              "    <tr>\n",
              "      <th>1</th>\n",
              "      <td>27835199</td>\n",
              "      <td>2009-07-17 20:04:56.0000002</td>\n",
              "      <td>7.7</td>\n",
              "      <td>2009-07-17 20:04:56+00:00</td>\n",
              "      <td>-73.994355</td>\n",
              "      <td>40.728225</td>\n",
              "      <td>-73.994710</td>\n",
              "      <td>40.750325</td>\n",
              "      <td>1</td>\n",
              "      <td>20</td>\n",
              "      <td>17</td>\n",
              "      <td>7</td>\n",
              "      <td>2009</td>\n",
              "      <td>4</td>\n",
              "      <td>2.457590</td>\n",
              "    </tr>\n",
              "    <tr>\n",
              "      <th>2</th>\n",
              "      <td>44984355</td>\n",
              "      <td>2009-08-24 21:45:00.00000061</td>\n",
              "      <td>12.9</td>\n",
              "      <td>2009-08-24 21:45:00+00:00</td>\n",
              "      <td>-74.005043</td>\n",
              "      <td>40.740770</td>\n",
              "      <td>-73.962565</td>\n",
              "      <td>40.772647</td>\n",
              "      <td>1</td>\n",
              "      <td>21</td>\n",
              "      <td>24</td>\n",
              "      <td>8</td>\n",
              "      <td>2009</td>\n",
              "      <td>0</td>\n",
              "      <td>5.036377</td>\n",
              "    </tr>\n",
              "    <tr>\n",
              "      <th>3</th>\n",
              "      <td>25894730</td>\n",
              "      <td>2009-06-26 08:22:21.0000001</td>\n",
              "      <td>5.3</td>\n",
              "      <td>2009-06-26 08:22:21+00:00</td>\n",
              "      <td>-73.976124</td>\n",
              "      <td>40.790844</td>\n",
              "      <td>-73.965316</td>\n",
              "      <td>40.803349</td>\n",
              "      <td>3</td>\n",
              "      <td>8</td>\n",
              "      <td>26</td>\n",
              "      <td>6</td>\n",
              "      <td>2009</td>\n",
              "      <td>4</td>\n",
              "      <td>1.661683</td>\n",
              "    </tr>\n",
              "    <tr>\n",
              "      <th>4</th>\n",
              "      <td>17610152</td>\n",
              "      <td>2014-08-28 17:47:00.000000188</td>\n",
              "      <td>16.0</td>\n",
              "      <td>2014-08-28 17:47:00+00:00</td>\n",
              "      <td>-73.925023</td>\n",
              "      <td>40.744085</td>\n",
              "      <td>-73.973082</td>\n",
              "      <td>40.761247</td>\n",
              "      <td>5</td>\n",
              "      <td>17</td>\n",
              "      <td>28</td>\n",
              "      <td>8</td>\n",
              "      <td>2014</td>\n",
              "      <td>3</td>\n",
              "      <td>4.475450</td>\n",
              "    </tr>\n",
              "  </tbody>\n",
              "</table>\n",
              "</div>\n",
              "    <div class=\"colab-df-buttons\">\n",
              "\n",
              "  <div class=\"colab-df-container\">\n",
              "    <button class=\"colab-df-convert\" onclick=\"convertToInteractive('df-c5d14a67-2b49-468f-b335-9e3bfb8c410d')\"\n",
              "            title=\"Convert this dataframe to an interactive table.\"\n",
              "            style=\"display:none;\">\n",
              "\n",
              "  <svg xmlns=\"http://www.w3.org/2000/svg\" height=\"24px\" viewBox=\"0 -960 960 960\">\n",
              "    <path d=\"M120-120v-720h720v720H120Zm60-500h600v-160H180v160Zm220 220h160v-160H400v160Zm0 220h160v-160H400v160ZM180-400h160v-160H180v160Zm440 0h160v-160H620v160ZM180-180h160v-160H180v160Zm440 0h160v-160H620v160Z\"/>\n",
              "  </svg>\n",
              "    </button>\n",
              "\n",
              "  <style>\n",
              "    .colab-df-container {\n",
              "      display:flex;\n",
              "      gap: 12px;\n",
              "    }\n",
              "\n",
              "    .colab-df-convert {\n",
              "      background-color: #E8F0FE;\n",
              "      border: none;\n",
              "      border-radius: 50%;\n",
              "      cursor: pointer;\n",
              "      display: none;\n",
              "      fill: #1967D2;\n",
              "      height: 32px;\n",
              "      padding: 0 0 0 0;\n",
              "      width: 32px;\n",
              "    }\n",
              "\n",
              "    .colab-df-convert:hover {\n",
              "      background-color: #E2EBFA;\n",
              "      box-shadow: 0px 1px 2px rgba(60, 64, 67, 0.3), 0px 1px 3px 1px rgba(60, 64, 67, 0.15);\n",
              "      fill: #174EA6;\n",
              "    }\n",
              "\n",
              "    .colab-df-buttons div {\n",
              "      margin-bottom: 4px;\n",
              "    }\n",
              "\n",
              "    [theme=dark] .colab-df-convert {\n",
              "      background-color: #3B4455;\n",
              "      fill: #D2E3FC;\n",
              "    }\n",
              "\n",
              "    [theme=dark] .colab-df-convert:hover {\n",
              "      background-color: #434B5C;\n",
              "      box-shadow: 0px 1px 3px 1px rgba(0, 0, 0, 0.15);\n",
              "      filter: drop-shadow(0px 1px 2px rgba(0, 0, 0, 0.3));\n",
              "      fill: #FFFFFF;\n",
              "    }\n",
              "  </style>\n",
              "\n",
              "    <script>\n",
              "      const buttonEl =\n",
              "        document.querySelector('#df-c5d14a67-2b49-468f-b335-9e3bfb8c410d button.colab-df-convert');\n",
              "      buttonEl.style.display =\n",
              "        google.colab.kernel.accessAllowed ? 'block' : 'none';\n",
              "\n",
              "      async function convertToInteractive(key) {\n",
              "        const element = document.querySelector('#df-c5d14a67-2b49-468f-b335-9e3bfb8c410d');\n",
              "        const dataTable =\n",
              "          await google.colab.kernel.invokeFunction('convertToInteractive',\n",
              "                                                    [key], {});\n",
              "        if (!dataTable) return;\n",
              "\n",
              "        const docLinkHtml = 'Like what you see? Visit the ' +\n",
              "          '<a target=\"_blank\" href=https://colab.research.google.com/notebooks/data_table.ipynb>data table notebook</a>'\n",
              "          + ' to learn more about interactive tables.';\n",
              "        element.innerHTML = '';\n",
              "        dataTable['output_type'] = 'display_data';\n",
              "        await google.colab.output.renderOutput(dataTable, element);\n",
              "        const docLink = document.createElement('div');\n",
              "        docLink.innerHTML = docLinkHtml;\n",
              "        element.appendChild(docLink);\n",
              "      }\n",
              "    </script>\n",
              "  </div>\n",
              "\n",
              "\n",
              "<div id=\"df-04ca5982-907e-4314-948e-5f8740dfc346\">\n",
              "  <button class=\"colab-df-quickchart\" onclick=\"quickchart('df-04ca5982-907e-4314-948e-5f8740dfc346')\"\n",
              "            title=\"Suggest charts\"\n",
              "            style=\"display:none;\">\n",
              "\n",
              "<svg xmlns=\"http://www.w3.org/2000/svg\" height=\"24px\"viewBox=\"0 0 24 24\"\n",
              "     width=\"24px\">\n",
              "    <g>\n",
              "        <path d=\"M19 3H5c-1.1 0-2 .9-2 2v14c0 1.1.9 2 2 2h14c1.1 0 2-.9 2-2V5c0-1.1-.9-2-2-2zM9 17H7v-7h2v7zm4 0h-2V7h2v10zm4 0h-2v-4h2v4z\"/>\n",
              "    </g>\n",
              "</svg>\n",
              "  </button>\n",
              "\n",
              "<style>\n",
              "  .colab-df-quickchart {\n",
              "      --bg-color: #E8F0FE;\n",
              "      --fill-color: #1967D2;\n",
              "      --hover-bg-color: #E2EBFA;\n",
              "      --hover-fill-color: #174EA6;\n",
              "      --disabled-fill-color: #AAA;\n",
              "      --disabled-bg-color: #DDD;\n",
              "  }\n",
              "\n",
              "  [theme=dark] .colab-df-quickchart {\n",
              "      --bg-color: #3B4455;\n",
              "      --fill-color: #D2E3FC;\n",
              "      --hover-bg-color: #434B5C;\n",
              "      --hover-fill-color: #FFFFFF;\n",
              "      --disabled-bg-color: #3B4455;\n",
              "      --disabled-fill-color: #666;\n",
              "  }\n",
              "\n",
              "  .colab-df-quickchart {\n",
              "    background-color: var(--bg-color);\n",
              "    border: none;\n",
              "    border-radius: 50%;\n",
              "    cursor: pointer;\n",
              "    display: none;\n",
              "    fill: var(--fill-color);\n",
              "    height: 32px;\n",
              "    padding: 0;\n",
              "    width: 32px;\n",
              "  }\n",
              "\n",
              "  .colab-df-quickchart:hover {\n",
              "    background-color: var(--hover-bg-color);\n",
              "    box-shadow: 0 1px 2px rgba(60, 64, 67, 0.3), 0 1px 3px 1px rgba(60, 64, 67, 0.15);\n",
              "    fill: var(--button-hover-fill-color);\n",
              "  }\n",
              "\n",
              "  .colab-df-quickchart-complete:disabled,\n",
              "  .colab-df-quickchart-complete:disabled:hover {\n",
              "    background-color: var(--disabled-bg-color);\n",
              "    fill: var(--disabled-fill-color);\n",
              "    box-shadow: none;\n",
              "  }\n",
              "\n",
              "  .colab-df-spinner {\n",
              "    border: 2px solid var(--fill-color);\n",
              "    border-color: transparent;\n",
              "    border-bottom-color: var(--fill-color);\n",
              "    animation:\n",
              "      spin 1s steps(1) infinite;\n",
              "  }\n",
              "\n",
              "  @keyframes spin {\n",
              "    0% {\n",
              "      border-color: transparent;\n",
              "      border-bottom-color: var(--fill-color);\n",
              "      border-left-color: var(--fill-color);\n",
              "    }\n",
              "    20% {\n",
              "      border-color: transparent;\n",
              "      border-left-color: var(--fill-color);\n",
              "      border-top-color: var(--fill-color);\n",
              "    }\n",
              "    30% {\n",
              "      border-color: transparent;\n",
              "      border-left-color: var(--fill-color);\n",
              "      border-top-color: var(--fill-color);\n",
              "      border-right-color: var(--fill-color);\n",
              "    }\n",
              "    40% {\n",
              "      border-color: transparent;\n",
              "      border-right-color: var(--fill-color);\n",
              "      border-top-color: var(--fill-color);\n",
              "    }\n",
              "    60% {\n",
              "      border-color: transparent;\n",
              "      border-right-color: var(--fill-color);\n",
              "    }\n",
              "    80% {\n",
              "      border-color: transparent;\n",
              "      border-right-color: var(--fill-color);\n",
              "      border-bottom-color: var(--fill-color);\n",
              "    }\n",
              "    90% {\n",
              "      border-color: transparent;\n",
              "      border-bottom-color: var(--fill-color);\n",
              "    }\n",
              "  }\n",
              "</style>\n",
              "\n",
              "  <script>\n",
              "    async function quickchart(key) {\n",
              "      const quickchartButtonEl =\n",
              "        document.querySelector('#' + key + ' button');\n",
              "      quickchartButtonEl.disabled = true;  // To prevent multiple clicks.\n",
              "      quickchartButtonEl.classList.add('colab-df-spinner');\n",
              "      try {\n",
              "        const charts = await google.colab.kernel.invokeFunction(\n",
              "            'suggestCharts', [key], {});\n",
              "      } catch (error) {\n",
              "        console.error('Error during call to suggestCharts:', error);\n",
              "      }\n",
              "      quickchartButtonEl.classList.remove('colab-df-spinner');\n",
              "      quickchartButtonEl.classList.add('colab-df-quickchart-complete');\n",
              "    }\n",
              "    (() => {\n",
              "      let quickchartButtonEl =\n",
              "        document.querySelector('#df-04ca5982-907e-4314-948e-5f8740dfc346 button');\n",
              "      quickchartButtonEl.style.display =\n",
              "        google.colab.kernel.accessAllowed ? 'block' : 'none';\n",
              "    })();\n",
              "  </script>\n",
              "</div>\n",
              "\n",
              "    </div>\n",
              "  </div>\n"
            ],
            "application/vnd.google.colaboratory.intrinsic+json": {
              "type": "dataframe",
              "variable_name": "data"
            }
          },
          "metadata": {},
          "execution_count": 495
        }
      ]
    },
    {
      "cell_type": "code",
      "source": [
        "#drop unnessary column\n",
        "data.drop(['pickup_datetime','Unnamed: 0','key'],axis=1,inplace=True)\n",
        "data.head()"
      ],
      "metadata": {
        "colab": {
          "base_uri": "https://localhost:8080/",
          "height": 206
        },
        "id": "NveqZTy1i-w6",
        "outputId": "4ce8a3b5-3952-4e08-c2d8-8f6451f52a2a"
      },
      "execution_count": 496,
      "outputs": [
        {
          "output_type": "execute_result",
          "data": {
            "text/plain": [
              "   fare_amount  pickup_longitude  pickup_latitude  dropoff_longitude  \\\n",
              "0          7.5        -73.999817        40.738354         -73.999512   \n",
              "1          7.7        -73.994355        40.728225         -73.994710   \n",
              "2         12.9        -74.005043        40.740770         -73.962565   \n",
              "3          5.3        -73.976124        40.790844         -73.965316   \n",
              "4         16.0        -73.925023        40.744085         -73.973082   \n",
              "\n",
              "   dropoff_latitude  passenger_count  hour  day  month  year  weekday  \\\n",
              "0         40.723217                1    19    7      5  2015        3   \n",
              "1         40.750325                1    20   17      7  2009        4   \n",
              "2         40.772647                1    21   24      8  2009        0   \n",
              "3         40.803349                3     8   26      6  2009        4   \n",
              "4         40.761247                5    17   28      8  2014        3   \n",
              "\n",
              "   Distance_km  \n",
              "0     1.683323  \n",
              "1     2.457590  \n",
              "2     5.036377  \n",
              "3     1.661683  \n",
              "4     4.475450  "
            ],
            "text/html": [
              "\n",
              "  <div id=\"df-e485817d-6294-4de7-b241-bc4f692abdcd\" class=\"colab-df-container\">\n",
              "    <div>\n",
              "<style scoped>\n",
              "    .dataframe tbody tr th:only-of-type {\n",
              "        vertical-align: middle;\n",
              "    }\n",
              "\n",
              "    .dataframe tbody tr th {\n",
              "        vertical-align: top;\n",
              "    }\n",
              "\n",
              "    .dataframe thead th {\n",
              "        text-align: right;\n",
              "    }\n",
              "</style>\n",
              "<table border=\"1\" class=\"dataframe\">\n",
              "  <thead>\n",
              "    <tr style=\"text-align: right;\">\n",
              "      <th></th>\n",
              "      <th>fare_amount</th>\n",
              "      <th>pickup_longitude</th>\n",
              "      <th>pickup_latitude</th>\n",
              "      <th>dropoff_longitude</th>\n",
              "      <th>dropoff_latitude</th>\n",
              "      <th>passenger_count</th>\n",
              "      <th>hour</th>\n",
              "      <th>day</th>\n",
              "      <th>month</th>\n",
              "      <th>year</th>\n",
              "      <th>weekday</th>\n",
              "      <th>Distance_km</th>\n",
              "    </tr>\n",
              "  </thead>\n",
              "  <tbody>\n",
              "    <tr>\n",
              "      <th>0</th>\n",
              "      <td>7.5</td>\n",
              "      <td>-73.999817</td>\n",
              "      <td>40.738354</td>\n",
              "      <td>-73.999512</td>\n",
              "      <td>40.723217</td>\n",
              "      <td>1</td>\n",
              "      <td>19</td>\n",
              "      <td>7</td>\n",
              "      <td>5</td>\n",
              "      <td>2015</td>\n",
              "      <td>3</td>\n",
              "      <td>1.683323</td>\n",
              "    </tr>\n",
              "    <tr>\n",
              "      <th>1</th>\n",
              "      <td>7.7</td>\n",
              "      <td>-73.994355</td>\n",
              "      <td>40.728225</td>\n",
              "      <td>-73.994710</td>\n",
              "      <td>40.750325</td>\n",
              "      <td>1</td>\n",
              "      <td>20</td>\n",
              "      <td>17</td>\n",
              "      <td>7</td>\n",
              "      <td>2009</td>\n",
              "      <td>4</td>\n",
              "      <td>2.457590</td>\n",
              "    </tr>\n",
              "    <tr>\n",
              "      <th>2</th>\n",
              "      <td>12.9</td>\n",
              "      <td>-74.005043</td>\n",
              "      <td>40.740770</td>\n",
              "      <td>-73.962565</td>\n",
              "      <td>40.772647</td>\n",
              "      <td>1</td>\n",
              "      <td>21</td>\n",
              "      <td>24</td>\n",
              "      <td>8</td>\n",
              "      <td>2009</td>\n",
              "      <td>0</td>\n",
              "      <td>5.036377</td>\n",
              "    </tr>\n",
              "    <tr>\n",
              "      <th>3</th>\n",
              "      <td>5.3</td>\n",
              "      <td>-73.976124</td>\n",
              "      <td>40.790844</td>\n",
              "      <td>-73.965316</td>\n",
              "      <td>40.803349</td>\n",
              "      <td>3</td>\n",
              "      <td>8</td>\n",
              "      <td>26</td>\n",
              "      <td>6</td>\n",
              "      <td>2009</td>\n",
              "      <td>4</td>\n",
              "      <td>1.661683</td>\n",
              "    </tr>\n",
              "    <tr>\n",
              "      <th>4</th>\n",
              "      <td>16.0</td>\n",
              "      <td>-73.925023</td>\n",
              "      <td>40.744085</td>\n",
              "      <td>-73.973082</td>\n",
              "      <td>40.761247</td>\n",
              "      <td>5</td>\n",
              "      <td>17</td>\n",
              "      <td>28</td>\n",
              "      <td>8</td>\n",
              "      <td>2014</td>\n",
              "      <td>3</td>\n",
              "      <td>4.475450</td>\n",
              "    </tr>\n",
              "  </tbody>\n",
              "</table>\n",
              "</div>\n",
              "    <div class=\"colab-df-buttons\">\n",
              "\n",
              "  <div class=\"colab-df-container\">\n",
              "    <button class=\"colab-df-convert\" onclick=\"convertToInteractive('df-e485817d-6294-4de7-b241-bc4f692abdcd')\"\n",
              "            title=\"Convert this dataframe to an interactive table.\"\n",
              "            style=\"display:none;\">\n",
              "\n",
              "  <svg xmlns=\"http://www.w3.org/2000/svg\" height=\"24px\" viewBox=\"0 -960 960 960\">\n",
              "    <path d=\"M120-120v-720h720v720H120Zm60-500h600v-160H180v160Zm220 220h160v-160H400v160Zm0 220h160v-160H400v160ZM180-400h160v-160H180v160Zm440 0h160v-160H620v160ZM180-180h160v-160H180v160Zm440 0h160v-160H620v160Z\"/>\n",
              "  </svg>\n",
              "    </button>\n",
              "\n",
              "  <style>\n",
              "    .colab-df-container {\n",
              "      display:flex;\n",
              "      gap: 12px;\n",
              "    }\n",
              "\n",
              "    .colab-df-convert {\n",
              "      background-color: #E8F0FE;\n",
              "      border: none;\n",
              "      border-radius: 50%;\n",
              "      cursor: pointer;\n",
              "      display: none;\n",
              "      fill: #1967D2;\n",
              "      height: 32px;\n",
              "      padding: 0 0 0 0;\n",
              "      width: 32px;\n",
              "    }\n",
              "\n",
              "    .colab-df-convert:hover {\n",
              "      background-color: #E2EBFA;\n",
              "      box-shadow: 0px 1px 2px rgba(60, 64, 67, 0.3), 0px 1px 3px 1px rgba(60, 64, 67, 0.15);\n",
              "      fill: #174EA6;\n",
              "    }\n",
              "\n",
              "    .colab-df-buttons div {\n",
              "      margin-bottom: 4px;\n",
              "    }\n",
              "\n",
              "    [theme=dark] .colab-df-convert {\n",
              "      background-color: #3B4455;\n",
              "      fill: #D2E3FC;\n",
              "    }\n",
              "\n",
              "    [theme=dark] .colab-df-convert:hover {\n",
              "      background-color: #434B5C;\n",
              "      box-shadow: 0px 1px 3px 1px rgba(0, 0, 0, 0.15);\n",
              "      filter: drop-shadow(0px 1px 2px rgba(0, 0, 0, 0.3));\n",
              "      fill: #FFFFFF;\n",
              "    }\n",
              "  </style>\n",
              "\n",
              "    <script>\n",
              "      const buttonEl =\n",
              "        document.querySelector('#df-e485817d-6294-4de7-b241-bc4f692abdcd button.colab-df-convert');\n",
              "      buttonEl.style.display =\n",
              "        google.colab.kernel.accessAllowed ? 'block' : 'none';\n",
              "\n",
              "      async function convertToInteractive(key) {\n",
              "        const element = document.querySelector('#df-e485817d-6294-4de7-b241-bc4f692abdcd');\n",
              "        const dataTable =\n",
              "          await google.colab.kernel.invokeFunction('convertToInteractive',\n",
              "                                                    [key], {});\n",
              "        if (!dataTable) return;\n",
              "\n",
              "        const docLinkHtml = 'Like what you see? Visit the ' +\n",
              "          '<a target=\"_blank\" href=https://colab.research.google.com/notebooks/data_table.ipynb>data table notebook</a>'\n",
              "          + ' to learn more about interactive tables.';\n",
              "        element.innerHTML = '';\n",
              "        dataTable['output_type'] = 'display_data';\n",
              "        await google.colab.output.renderOutput(dataTable, element);\n",
              "        const docLink = document.createElement('div');\n",
              "        docLink.innerHTML = docLinkHtml;\n",
              "        element.appendChild(docLink);\n",
              "      }\n",
              "    </script>\n",
              "  </div>\n",
              "\n",
              "\n",
              "<div id=\"df-a414fb71-78b7-4848-b0dd-dc6e98a2e7db\">\n",
              "  <button class=\"colab-df-quickchart\" onclick=\"quickchart('df-a414fb71-78b7-4848-b0dd-dc6e98a2e7db')\"\n",
              "            title=\"Suggest charts\"\n",
              "            style=\"display:none;\">\n",
              "\n",
              "<svg xmlns=\"http://www.w3.org/2000/svg\" height=\"24px\"viewBox=\"0 0 24 24\"\n",
              "     width=\"24px\">\n",
              "    <g>\n",
              "        <path d=\"M19 3H5c-1.1 0-2 .9-2 2v14c0 1.1.9 2 2 2h14c1.1 0 2-.9 2-2V5c0-1.1-.9-2-2-2zM9 17H7v-7h2v7zm4 0h-2V7h2v10zm4 0h-2v-4h2v4z\"/>\n",
              "    </g>\n",
              "</svg>\n",
              "  </button>\n",
              "\n",
              "<style>\n",
              "  .colab-df-quickchart {\n",
              "      --bg-color: #E8F0FE;\n",
              "      --fill-color: #1967D2;\n",
              "      --hover-bg-color: #E2EBFA;\n",
              "      --hover-fill-color: #174EA6;\n",
              "      --disabled-fill-color: #AAA;\n",
              "      --disabled-bg-color: #DDD;\n",
              "  }\n",
              "\n",
              "  [theme=dark] .colab-df-quickchart {\n",
              "      --bg-color: #3B4455;\n",
              "      --fill-color: #D2E3FC;\n",
              "      --hover-bg-color: #434B5C;\n",
              "      --hover-fill-color: #FFFFFF;\n",
              "      --disabled-bg-color: #3B4455;\n",
              "      --disabled-fill-color: #666;\n",
              "  }\n",
              "\n",
              "  .colab-df-quickchart {\n",
              "    background-color: var(--bg-color);\n",
              "    border: none;\n",
              "    border-radius: 50%;\n",
              "    cursor: pointer;\n",
              "    display: none;\n",
              "    fill: var(--fill-color);\n",
              "    height: 32px;\n",
              "    padding: 0;\n",
              "    width: 32px;\n",
              "  }\n",
              "\n",
              "  .colab-df-quickchart:hover {\n",
              "    background-color: var(--hover-bg-color);\n",
              "    box-shadow: 0 1px 2px rgba(60, 64, 67, 0.3), 0 1px 3px 1px rgba(60, 64, 67, 0.15);\n",
              "    fill: var(--button-hover-fill-color);\n",
              "  }\n",
              "\n",
              "  .colab-df-quickchart-complete:disabled,\n",
              "  .colab-df-quickchart-complete:disabled:hover {\n",
              "    background-color: var(--disabled-bg-color);\n",
              "    fill: var(--disabled-fill-color);\n",
              "    box-shadow: none;\n",
              "  }\n",
              "\n",
              "  .colab-df-spinner {\n",
              "    border: 2px solid var(--fill-color);\n",
              "    border-color: transparent;\n",
              "    border-bottom-color: var(--fill-color);\n",
              "    animation:\n",
              "      spin 1s steps(1) infinite;\n",
              "  }\n",
              "\n",
              "  @keyframes spin {\n",
              "    0% {\n",
              "      border-color: transparent;\n",
              "      border-bottom-color: var(--fill-color);\n",
              "      border-left-color: var(--fill-color);\n",
              "    }\n",
              "    20% {\n",
              "      border-color: transparent;\n",
              "      border-left-color: var(--fill-color);\n",
              "      border-top-color: var(--fill-color);\n",
              "    }\n",
              "    30% {\n",
              "      border-color: transparent;\n",
              "      border-left-color: var(--fill-color);\n",
              "      border-top-color: var(--fill-color);\n",
              "      border-right-color: var(--fill-color);\n",
              "    }\n",
              "    40% {\n",
              "      border-color: transparent;\n",
              "      border-right-color: var(--fill-color);\n",
              "      border-top-color: var(--fill-color);\n",
              "    }\n",
              "    60% {\n",
              "      border-color: transparent;\n",
              "      border-right-color: var(--fill-color);\n",
              "    }\n",
              "    80% {\n",
              "      border-color: transparent;\n",
              "      border-right-color: var(--fill-color);\n",
              "      border-bottom-color: var(--fill-color);\n",
              "    }\n",
              "    90% {\n",
              "      border-color: transparent;\n",
              "      border-bottom-color: var(--fill-color);\n",
              "    }\n",
              "  }\n",
              "</style>\n",
              "\n",
              "  <script>\n",
              "    async function quickchart(key) {\n",
              "      const quickchartButtonEl =\n",
              "        document.querySelector('#' + key + ' button');\n",
              "      quickchartButtonEl.disabled = true;  // To prevent multiple clicks.\n",
              "      quickchartButtonEl.classList.add('colab-df-spinner');\n",
              "      try {\n",
              "        const charts = await google.colab.kernel.invokeFunction(\n",
              "            'suggestCharts', [key], {});\n",
              "      } catch (error) {\n",
              "        console.error('Error during call to suggestCharts:', error);\n",
              "      }\n",
              "      quickchartButtonEl.classList.remove('colab-df-spinner');\n",
              "      quickchartButtonEl.classList.add('colab-df-quickchart-complete');\n",
              "    }\n",
              "    (() => {\n",
              "      let quickchartButtonEl =\n",
              "        document.querySelector('#df-a414fb71-78b7-4848-b0dd-dc6e98a2e7db button');\n",
              "      quickchartButtonEl.style.display =\n",
              "        google.colab.kernel.accessAllowed ? 'block' : 'none';\n",
              "    })();\n",
              "  </script>\n",
              "</div>\n",
              "\n",
              "    </div>\n",
              "  </div>\n"
            ],
            "application/vnd.google.colaboratory.intrinsic+json": {
              "type": "dataframe",
              "variable_name": "data"
            }
          },
          "metadata": {},
          "execution_count": 496
        }
      ]
    },
    {
      "cell_type": "code",
      "source": [
        "#observe in visualization Distance increase Fare Amount also increase\n",
        "df=np.array(data)\n",
        "print(type(df))\n",
        "print(df.shape)\n",
        "plt.plot(df[0:300,11:12],df[0:300,0:1],'o',color='black')\n",
        "plt.xlabel('Trip Distance')\n",
        "plt.ylabel('Fare Amount')\n",
        "plt.title('Trip Distance vs Fare Amount (First 300 Rows)')\n",
        "plt.show()"
      ],
      "metadata": {
        "colab": {
          "base_uri": "https://localhost:8080/",
          "height": 507
        },
        "id": "SSORl62YjzRO",
        "outputId": "a9bc345a-497c-41c3-c6f9-1ae4b0db3946"
      },
      "execution_count": 497,
      "outputs": [
        {
          "output_type": "stream",
          "name": "stdout",
          "text": [
            "<class 'numpy.ndarray'>\n",
            "(199978, 12)\n"
          ]
        },
        {
          "output_type": "display_data",
          "data": {
            "text/plain": [
              "<Figure size 640x480 with 1 Axes>"
            ],
            "image/png": "[encoded data removed]"
          },
          "metadata": {}
        }
      ]
    },
    {
      "cell_type": "markdown",
      "source": [
        "#Step-6 :Data Scaling/Normalization#"
      ],
      "metadata": {
        "id": "oivs5g0ZKZHt"
      }
    },
    {
      "cell_type": "code",
      "source": [
        "from sklearn.preprocessing import MinMaxScaler\n",
        "scaler = MinMaxScaler()"
      ],
      "metadata": {
        "id": "ODJm2wzobqVw"
      },
      "execution_count": 498,
      "outputs": []
    },
    {
      "cell_type": "markdown",
      "source": [
        "#Step-7: Spliting the Data into train and Test set"
      ],
      "metadata": {
        "id": "pX7yQPWolgT0"
      }
    },
    {
      "cell_type": "code",
      "source": [
        "data.head()"
      ],
      "metadata": {
        "colab": {
          "base_uri": "https://localhost:8080/",
          "height": 206
        },
        "id": "9szn-uOcpKkV",
        "outputId": "b99ee55e-9ad4-4c98-c381-0626a2fd27ad"
      },
      "execution_count": 499,
      "outputs": [
        {
          "output_type": "execute_result",
          "data": {
            "text/plain": [
              "   fare_amount  pickup_longitude  pickup_latitude  dropoff_longitude  \\\n",
              "0          7.5        -73.999817        40.738354         -73.999512   \n",
              "1          7.7        -73.994355        40.728225         -73.994710   \n",
              "2         12.9        -74.005043        40.740770         -73.962565   \n",
              "3          5.3        -73.976124        40.790844         -73.965316   \n",
              "4         16.0        -73.925023        40.744085         -73.973082   \n",
              "\n",
              "   dropoff_latitude  passenger_count  hour  day  month  year  weekday  \\\n",
              "0         40.723217                1    19    7      5  2015        3   \n",
              "1         40.750325                1    20   17      7  2009        4   \n",
              "2         40.772647                1    21   24      8  2009        0   \n",
              "3         40.803349                3     8   26      6  2009        4   \n",
              "4         40.761247                5    17   28      8  2014        3   \n",
              "\n",
              "   Distance_km  \n",
              "0     1.683323  \n",
              "1     2.457590  \n",
              "2     5.036377  \n",
              "3     1.661683  \n",
              "4     4.475450  "
            ],
            "text/html": [
              "\n",
              "  <div id=\"df-c9554e95-b3eb-4aaf-907f-9c2fad02267d\" class=\"colab-df-container\">\n",
              "    <div>\n",
              "<style scoped>\n",
              "    .dataframe tbody tr th:only-of-type {\n",
              "        vertical-align: middle;\n",
              "    }\n",
              "\n",
              "    .dataframe tbody tr th {\n",
              "        vertical-align: top;\n",
              "    }\n",
              "\n",
              "    .dataframe thead th {\n",
              "        text-align: right;\n",
              "    }\n",
              "</style>\n",
              "<table border=\"1\" class=\"dataframe\">\n",
              "  <thead>\n",
              "    <tr style=\"text-align: right;\">\n",
              "      <th></th>\n",
              "      <th>fare_amount</th>\n",
              "      <th>pickup_longitude</th>\n",
              "      <th>pickup_latitude</th>\n",
              "      <th>dropoff_longitude</th>\n",
              "      <th>dropoff_latitude</th>\n",
              "      <th>passenger_count</th>\n",
              "      <th>hour</th>\n",
              "      <th>day</th>\n",
              "      <th>month</th>\n",
              "      <th>year</th>\n",
              "      <th>weekday</th>\n",
              "      <th>Distance_km</th>\n",
              "    </tr>\n",
              "  </thead>\n",
              "  <tbody>\n",
              "    <tr>\n",
              "      <th>0</th>\n",
              "      <td>7.5</td>\n",
              "      <td>-73.999817</td>\n",
              "      <td>40.738354</td>\n",
              "      <td>-73.999512</td>\n",
              "      <td>40.723217</td>\n",
              "      <td>1</td>\n",
              "      <td>19</td>\n",
              "      <td>7</td>\n",
              "      <td>5</td>\n",
              "      <td>2015</td>\n",
              "      <td>3</td>\n",
              "      <td>1.683323</td>\n",
              "    </tr>\n",
              "    <tr>\n",
              "      <th>1</th>\n",
              "      <td>7.7</td>\n",
              "      <td>-73.994355</td>\n",
              "      <td>40.728225</td>\n",
              "      <td>-73.994710</td>\n",
              "      <td>40.750325</td>\n",
              "      <td>1</td>\n",
              "      <td>20</td>\n",
              "      <td>17</td>\n",
              "      <td>7</td>\n",
              "      <td>2009</td>\n",
              "      <td>4</td>\n",
              "      <td>2.457590</td>\n",
              "    </tr>\n",
              "    <tr>\n",
              "      <th>2</th>\n",
              "      <td>12.9</td>\n",
              "      <td>-74.005043</td>\n",
              "      <td>40.740770</td>\n",
              "      <td>-73.962565</td>\n",
              "      <td>40.772647</td>\n",
              "      <td>1</td>\n",
              "      <td>21</td>\n",
              "      <td>24</td>\n",
              "      <td>8</td>\n",
              "      <td>2009</td>\n",
              "      <td>0</td>\n",
              "      <td>5.036377</td>\n",
              "    </tr>\n",
              "    <tr>\n",
              "      <th>3</th>\n",
              "      <td>5.3</td>\n",
              "      <td>-73.976124</td>\n",
              "      <td>40.790844</td>\n",
              "      <td>-73.965316</td>\n",
              "      <td>40.803349</td>\n",
              "      <td>3</td>\n",
              "      <td>8</td>\n",
              "      <td>26</td>\n",
              "      <td>6</td>\n",
              "      <td>2009</td>\n",
              "      <td>4</td>\n",
              "      <td>1.661683</td>\n",
              "    </tr>\n",
              "    <tr>\n",
              "      <th>4</th>\n",
              "      <td>16.0</td>\n",
              "      <td>-73.925023</td>\n",
              "      <td>40.744085</td>\n",
              "      <td>-73.973082</td>\n",
              "      <td>40.761247</td>\n",
              "      <td>5</td>\n",
              "      <td>17</td>\n",
              "      <td>28</td>\n",
              "      <td>8</td>\n",
              "      <td>2014</td>\n",
              "      <td>3</td>\n",
              "      <td>4.475450</td>\n",
              "    </tr>\n",
              "  </tbody>\n",
              "</table>\n",
              "</div>\n",
              "    <div class=\"colab-df-buttons\">\n",
              "\n",
              "  <div class=\"colab-df-container\">\n",
              "    <button class=\"colab-df-convert\" onclick=\"convertToInteractive('df-c9554e95-b3eb-4aaf-907f-9c2fad02267d')\"\n",
              "            title=\"Convert this dataframe to an interactive table.\"\n",
              "            style=\"display:none;\">\n",
              "\n",
              "  <svg xmlns=\"http://www.w3.org/2000/svg\" height=\"24px\" viewBox=\"0 -960 960 960\">\n",
              "    <path d=\"M120-120v-720h720v720H120Zm60-500h600v-160H180v160Zm220 220h160v-160H400v160Zm0 220h160v-160H400v160ZM180-400h160v-160H180v160Zm440 0h160v-160H620v160ZM180-180h160v-160H180v160Zm440 0h160v-160H620v160Z\"/>\n",
              "  </svg>\n",
              "    </button>\n",
              "\n",
              "  <style>\n",
              "    .colab-df-container {\n",
              "      display:flex;\n",
              "      gap: 12px;\n",
              "    }\n",
              "\n",
              "    .colab-df-convert {\n",
              "      background-color: #E8F0FE;\n",
              "      border: none;\n",
              "      border-radius: 50%;\n",
              "      cursor: pointer;\n",
              "      display: none;\n",
              "      fill: #1967D2;\n",
              "      height: 32px;\n",
              "      padding: 0 0 0 0;\n",
              "      width: 32px;\n",
              "    }\n",
              "\n",
              "    .colab-df-convert:hover {\n",
              "      background-color: #E2EBFA;\n",
              "      box-shadow: 0px 1px 2px rgba(60, 64, 67, 0.3), 0px 1px 3px 1px rgba(60, 64, 67, 0.15);\n",
              "      fill: #174EA6;\n",
              "    }\n",
              "\n",
              "    .colab-df-buttons div {\n",
              "      margin-bottom: 4px;\n",
              "    }\n",
              "\n",
              "    [theme=dark] .colab-df-convert {\n",
              "      background-color: #3B4455;\n",
              "      fill: #D2E3FC;\n",
              "    }\n",
              "\n",
              "    [theme=dark] .colab-df-convert:hover {\n",
              "      background-color: #434B5C;\n",
              "      box-shadow: 0px 1px 3px 1px rgba(0, 0, 0, 0.15);\n",
              "      filter: drop-shadow(0px 1px 2px rgba(0, 0, 0, 0.3));\n",
              "      fill: #FFFFFF;\n",
              "    }\n",
              "  </style>\n",
              "\n",
              "    <script>\n",
              "      const buttonEl =\n",
              "        document.querySelector('#df-c9554e95-b3eb-4aaf-907f-9c2fad02267d button.colab-df-convert');\n",
              "      buttonEl.style.display =\n",
              "        google.colab.kernel.accessAllowed ? 'block' : 'none';\n",
              "\n",
              "      async function convertToInteractive(key) {\n",
              "        const element = document.querySelector('#df-c9554e95-b3eb-4aaf-907f-9c2fad02267d');\n",
              "        const dataTable =\n",
              "          await google.colab.kernel.invokeFunction('convertToInteractive',\n",
              "                                                    [key], {});\n",
              "        if (!dataTable) return;\n",
              "\n",
              "        const docLinkHtml = 'Like what you see? Visit the ' +\n",
              "          '<a target=\"_blank\" href=https://colab.research.google.com/notebooks/data_table.ipynb>data table notebook</a>'\n",
              "          + ' to learn more about interactive tables.';\n",
              "        element.innerHTML = '';\n",
              "        dataTable['output_type'] = 'display_data';\n",
              "        await google.colab.output.renderOutput(dataTable, element);\n",
              "        const docLink = document.createElement('div');\n",
              "        docLink.innerHTML = docLinkHtml;\n",
              "        element.appendChild(docLink);\n",
              "      }\n",
              "    </script>\n",
              "  </div>\n",
              "\n",
              "\n",
              "<div id=\"df-01eb6244-93bf-4fc0-95b7-62e436b046a3\">\n",
              "  <button class=\"colab-df-quickchart\" onclick=\"quickchart('df-01eb6244-93bf-4fc0-95b7-62e436b046a3')\"\n",
              "            title=\"Suggest charts\"\n",
              "            style=\"display:none;\">\n",
              "\n",
              "<svg xmlns=\"http://www.w3.org/2000/svg\" height=\"24px\"viewBox=\"0 0 24 24\"\n",
              "     width=\"24px\">\n",
              "    <g>\n",
              "        <path d=\"M19 3H5c-1.1 0-2 .9-2 2v14c0 1.1.9 2 2 2h14c1.1 0 2-.9 2-2V5c0-1.1-.9-2-2-2zM9 17H7v-7h2v7zm4 0h-2V7h2v10zm4 0h-2v-4h2v4z\"/>\n",
              "    </g>\n",
              "</svg>\n",
              "  </button>\n",
              "\n",
              "<style>\n",
              "  .colab-df-quickchart {\n",
              "      --bg-color: #E8F0FE;\n",
              "      --fill-color: #1967D2;\n",
              "      --hover-bg-color: #E2EBFA;\n",
              "      --hover-fill-color: #174EA6;\n",
              "      --disabled-fill-color: #AAA;\n",
              "      --disabled-bg-color: #DDD;\n",
              "  }\n",
              "\n",
              "  [theme=dark] .colab-df-quickchart {\n",
              "      --bg-color: #3B4455;\n",
              "      --fill-color: #D2E3FC;\n",
              "      --hover-bg-color: #434B5C;\n",
              "      --hover-fill-color: #FFFFFF;\n",
              "      --disabled-bg-color: #3B4455;\n",
              "      --disabled-fill-color: #666;\n",
              "  }\n",
              "\n",
              "  .colab-df-quickchart {\n",
              "    background-color: var(--bg-color);\n",
              "    border: none;\n",
              "    border-radius: 50%;\n",
              "    cursor: pointer;\n",
              "    display: none;\n",
              "    fill: var(--fill-color);\n",
              "    height: 32px;\n",
              "    padding: 0;\n",
              "    width: 32px;\n",
              "  }\n",
              "\n",
              "  .colab-df-quickchart:hover {\n",
              "    background-color: var(--hover-bg-color);\n",
              "    box-shadow: 0 1px 2px rgba(60, 64, 67, 0.3), 0 1px 3px 1px rgba(60, 64, 67, 0.15);\n",
              "    fill: var(--button-hover-fill-color);\n",
              "  }\n",
              "\n",
              "  .colab-df-quickchart-complete:disabled,\n",
              "  .colab-df-quickchart-complete:disabled:hover {\n",
              "    background-color: var(--disabled-bg-color);\n",
              "    fill: var(--disabled-fill-color);\n",
              "    box-shadow: none;\n",
              "  }\n",
              "\n",
              "  .colab-df-spinner {\n",
              "    border: 2px solid var(--fill-color);\n",
              "    border-color: transparent;\n",
              "    border-bottom-color: var(--fill-color);\n",
              "    animation:\n",
              "      spin 1s steps(1) infinite;\n",
              "  }\n",
              "\n",
              "  @keyframes spin {\n",
              "    0% {\n",
              "      border-color: transparent;\n",
              "      border-bottom-color: var(--fill-color);\n",
              "      border-left-color: var(--fill-color);\n",
              "    }\n",
              "    20% {\n",
              "      border-color: transparent;\n",
              "      border-left-color: var(--fill-color);\n",
              "      border-top-color: var(--fill-color);\n",
              "    }\n",
              "    30% {\n",
              "      border-color: transparent;\n",
              "      border-left-color: var(--fill-color);\n",
              "      border-top-color: var(--fill-color);\n",
              "      border-right-color: var(--fill-color);\n",
              "    }\n",
              "    40% {\n",
              "      border-color: transparent;\n",
              "      border-right-color: var(--fill-color);\n",
              "      border-top-color: var(--fill-color);\n",
              "    }\n",
              "    60% {\n",
              "      border-color: transparent;\n",
              "      border-right-color: var(--fill-color);\n",
              "    }\n",
              "    80% {\n",
              "      border-color: transparent;\n",
              "      border-right-color: var(--fill-color);\n",
              "      border-bottom-color: var(--fill-color);\n",
              "    }\n",
              "    90% {\n",
              "      border-color: transparent;\n",
              "      border-bottom-color: var(--fill-color);\n",
              "    }\n",
              "  }\n",
              "</style>\n",
              "\n",
              "  <script>\n",
              "    async function quickchart(key) {\n",
              "      const quickchartButtonEl =\n",
              "        document.querySelector('#' + key + ' button');\n",
              "      quickchartButtonEl.disabled = true;  // To prevent multiple clicks.\n",
              "      quickchartButtonEl.classList.add('colab-df-spinner');\n",
              "      try {\n",
              "        const charts = await google.colab.kernel.invokeFunction(\n",
              "            'suggestCharts', [key], {});\n",
              "      } catch (error) {\n",
              "        console.error('Error during call to suggestCharts:', error);\n",
              "      }\n",
              "      quickchartButtonEl.classList.remove('colab-df-spinner');\n",
              "      quickchartButtonEl.classList.add('colab-df-quickchart-complete');\n",
              "    }\n",
              "    (() => {\n",
              "      let quickchartButtonEl =\n",
              "        document.querySelector('#df-01eb6244-93bf-4fc0-95b7-62e436b046a3 button');\n",
              "      quickchartButtonEl.style.display =\n",
              "        google.colab.kernel.accessAllowed ? 'block' : 'none';\n",
              "    })();\n",
              "  </script>\n",
              "</div>\n",
              "\n",
              "    </div>\n",
              "  </div>\n"
            ],
            "application/vnd.google.colaboratory.intrinsic+json": {
              "type": "dataframe",
              "variable_name": "data"
            }
          },
          "metadata": {},
          "execution_count": 499
        }
      ]
    },
    {
      "cell_type": "code",
      "source": [
        "X=df\n",
        "X\n",
        "y=data['fare_amount']\n",
        "y"
      ],
      "metadata": {
        "colab": {
          "base_uri": "https://localhost:8080/"
        },
        "id": "2fPcWE3pmrm9",
        "outputId": "200d27cb-aa02-4344-fb9f-b2b87b2b5cc4"
      },
      "execution_count": 500,
      "outputs": [
        {
          "output_type": "execute_result",
          "data": {
            "text/plain": [
              "0          7.5\n",
              "1          7.7\n",
              "2         12.9\n",
              "3          5.3\n",
              "4         16.0\n",
              "          ... \n",
              "199995     3.0\n",
              "199996     7.5\n",
              "199997    30.9\n",
              "199998    14.5\n",
              "199999    14.1\n",
              "Name: fare_amount, Length: 199978, dtype: float64"
            ]
          },
          "metadata": {},
          "execution_count": 500
        }
      ]
    },
    {
      "cell_type": "markdown",
      "source": [
        "#Step-8: Correlation Analysis"
      ],
      "metadata": {
        "id": "8IwoLNUeyNKh"
      }
    },
    {
      "cell_type": "code",
      "source": [
        "# Calculate the correlation matrix\n",
        "correlation_matrix = data.corr()\n",
        "\n",
        "# Plot heatmap\n",
        "plt.figure(figsize=(10, 8))\n",
        "sns.heatmap(correlation_matrix, annot=True, cmap='viridis', fmt=\".2f\", linewidths=0.5)\n",
        "plt.title('Correlation Heatmap')\n",
        "plt.show()"
      ],
      "metadata": {
        "id": "EJvl2z9jyL-6"
      },
      "execution_count": null,
      "outputs": []
    },
    {
      "cell_type": "markdown",
      "source": [
        "#Step-9: Prediction on Test Set"
      ],
      "metadata": {
        "id": "HY3V1Tu8yAfz"
      }
    },
    {
      "cell_type": "code",
      "source": [
        "from sklearn.linear_model import LinearRegression\n",
        "lr_model=LinearRegression()\n",
        "lr_model.fit(X,y)"
      ],
      "metadata": {
        "colab": {
          "base_uri": "https://localhost:8080/",
          "height": 74
        },
        "id": "O6hFJoYTupk4",
        "outputId": "eeae58fa-5798-403f-96f3-0ef4f0e4cce8"
      },
      "execution_count": 514,
      "outputs": [
        {
          "output_type": "execute_result",
          "data": {
            "text/plain": [
              "LinearRegression()"
            ],
            "text/html": [
              "<style>#sk-container-id-4 {color: black;background-color: white;}#sk-container-id-4 pre{padding: 0;}#sk-container-id-4 div.sk-toggleable {background-color: white;}#sk-container-id-4 label.sk-toggleable__label {cursor: pointer;display: block;width: 100%;margin-bottom: 0;padding: 0.3em;box-sizing: border-box;text-align: center;}#sk-container-id-4 label.sk-toggleable__label-arrow:before {content: \"▸\";float: left;margin-right: 0.25em;color: #696969;}#sk-container-id-4 label.sk-toggleable__label-arrow:hover:before {color: black;}#sk-container-id-4 div.sk-estimator:hover label.sk-toggleable__label-arrow:before {color: black;}#sk-container-id-4 div.sk-toggleable__content {max-height: 0;max-width: 0;overflow: hidden;text-align: left;background-color: #f0f8ff;}#sk-container-id-4 div.sk-toggleable__content pre {margin: 0.2em;color: black;border-radius: 0.25em;background-color: #f0f8ff;}#sk-container-id-4 input.sk-toggleable__control:checked~div.sk-toggleable__content {max-height: 200px;max-width: 100%;overflow: auto;}#sk-container-id-4 input.sk-toggleable__control:checked~label.sk-toggleable__label-arrow:before {content: \"▾\";}#sk-container-id-4 div.sk-estimator input.sk-toggleable__control:checked~label.sk-toggleable__label {background-color: #d4ebff;}#sk-container-id-4 div.sk-label input.sk-toggleable__control:checked~label.sk-toggleable__label {background-color: #d4ebff;}#sk-container-id-4 input.sk-hidden--visually {border: 0;clip: rect(1px 1px 1px 1px);clip: rect(1px, 1px, 1px, 1px);height: 1px;margin: -1px;overflow: hidden;padding: 0;position: absolute;width: 1px;}#sk-container-id-4 div.sk-estimator {font-family: monospace;background-color: #f0f8ff;border: 1px dotted black;border-radius: 0.25em;box-sizing: border-box;margin-bottom: 0.5em;}#sk-container-id-4 div.sk-estimator:hover {background-color: #d4ebff;}#sk-container-id-4 div.sk-parallel-item::after {content: \"\";width: 100%;border-bottom: 1px solid gray;flex-grow: 1;}#sk-container-id-4 div.sk-label:hover label.sk-toggleable__label {background-color: #d4ebff;}#sk-container-id-4 div.sk-serial::before {content: \"\";position: absolute;border-left: 1px solid gray;box-sizing: border-box;top: 0;bottom: 0;left: 50%;z-index: 0;}#sk-container-id-4 div.sk-serial {display: flex;flex-direction: column;align-items: center;background-color: white;padding-right: 0.2em;padding-left: 0.2em;position: relative;}#sk-container-id-4 div.sk-item {position: relative;z-index: 1;}#sk-container-id-4 div.sk-parallel {display: flex;align-items: stretch;justify-content: center;background-color: white;position: relative;}#sk-container-id-4 div.sk-item::before, #sk-container-id-4 div.sk-parallel-item::before {content: \"\";position: absolute;border-left: 1px solid gray;box-sizing: border-box;top: 0;bottom: 0;left: 50%;z-index: -1;}#sk-container-id-4 div.sk-parallel-item {display: flex;flex-direction: column;z-index: 1;position: relative;background-color: white;}#sk-container-id-4 div.sk-parallel-item:first-child::after {align-self: flex-end;width: 50%;}#sk-container-id-4 div.sk-parallel-item:last-child::after {align-self: flex-start;width: 50%;}#sk-container-id-4 div.sk-parallel-item:only-child::after {width: 0;}#sk-container-id-4 div.sk-dashed-wrapped {border: 1px dashed gray;margin: 0 0.4em 0.5em 0.4em;box-sizing: border-box;padding-bottom: 0.4em;background-color: white;}#sk-container-id-4 div.sk-label label {font-family: monospace;font-weight: bold;display: inline-block;line-height: 1.2em;}#sk-container-id-4 div.sk-label-container {text-align: center;}#sk-container-id-4 div.sk-container {/* jupyter's `normalize.less` sets `[hidden] { display: none; }` but bootstrap.min.css set `[hidden] { display: none !important; }` so we also need the `!important` here to be able to override the default hidden behavior on the sphinx rendered scikit-learn.org. See: https://github.com/scikit-learn/scikit-learn/issues/21755 */display: inline-block !important;position: relative;}#sk-container-id-4 div.sk-text-repr-fallback {display: none;}</style><div id=\"sk-container-id-4\" class=\"sk-top-container\"><div class=\"sk-text-repr-fallback\"><pre>LinearRegression()</pre><b>In a Jupyter environment, please rerun this cell to show the HTML representation or trust the notebook. <br />On GitHub, the HTML representation is unable to render, please try loading this page with nbviewer.org.</b></div><div class=\"sk-container\" hidden><div class=\"sk-item\"><div class=\"sk-estimator sk-toggleable\"><input class=\"sk-toggleable__control sk-hidden--visually\" id=\"sk-estimator-id-4\" type=\"checkbox\" checked><label for=\"sk-estimator-id-4\" class=\"sk-toggleable__label sk-toggleable__label-arrow\">LinearRegression</label><div class=\"sk-toggleable__content\"><pre>LinearRegression()</pre></div></div></div></div></div>"
            ]
          },
          "metadata": {},
          "execution_count": 514
        }
      ]
    },
    {
      "cell_type": "code",
      "source": [
        "lr_model.coef_"
      ],
      "metadata": {
        "colab": {
          "base_uri": "https://localhost:8080/"
        },
        "id": "3jIpjXb1uvcV",
        "outputId": "9b937742-dd35-434a-e312-6a2f49d70068"
      },
      "execution_count": 515,
      "outputs": [
        {
          "output_type": "execute_result",
          "data": {
            "text/plain": [
              "array([ 1.00000000e+00, -5.74452442e-17,  3.47748156e-17, -6.62028141e-17,\n",
              "        3.11717178e-17, -1.70690969e-17,  1.06137009e-17, -8.16251762e-18,\n",
              "       -9.37408839e-18, -2.36634905e-17, -4.32417015e-18, -1.45861674e-16])"
            ]
          },
          "metadata": {},
          "execution_count": 515
        }
      ]
    },
    {
      "cell_type": "code",
      "source": [
        "lr_model.intercept_"
      ],
      "metadata": {
        "colab": {
          "base_uri": "https://localhost:8080/"
        },
        "id": "RGWUBcPruyxr",
        "outputId": "3032c01d-defb-4125-fc24-152bad786dfe"
      },
      "execution_count": 516,
      "outputs": [
        {
          "output_type": "execute_result",
          "data": {
            "text/plain": [
              "3.907985046680551e-14"
            ]
          },
          "metadata": {},
          "execution_count": 516
        }
      ]
    },
    {
      "cell_type": "code",
      "source": [
        "from sklearn.model_selection import train_test_split\n",
        "X_train,X_test,y_train,y_test = train_test_split(X,y,test_size=0.3,random_state=100)\n"
      ],
      "metadata": {
        "id": "uTy1XIlwm1uQ"
      },
      "execution_count": 521,
      "outputs": []
    },
    {
      "cell_type": "code",
      "source": [
        "len(X_train)"
      ],
      "metadata": {
        "colab": {
          "base_uri": "https://localhost:8080/"
        },
        "id": "mlbX44qFp-07",
        "outputId": "c093caf7-d052-4d3d-a9d8-2e95836c03a8"
      },
      "execution_count": 502,
      "outputs": [
        {
          "output_type": "execute_result",
          "data": {
            "text/plain": [
              "139984"
            ]
          },
          "metadata": {},
          "execution_count": 502
        }
      ]
    },
    {
      "cell_type": "code",
      "source": [
        "len(y_train)"
      ],
      "metadata": {
        "colab": {
          "base_uri": "https://localhost:8080/"
        },
        "id": "cI8rVgrgp_sp",
        "outputId": "8b96a96c-dcfd-46e9-d08e-45704fe32d68"
      },
      "execution_count": 503,
      "outputs": [
        {
          "output_type": "execute_result",
          "data": {
            "text/plain": [
              "139984"
            ]
          },
          "metadata": {},
          "execution_count": 503
        }
      ]
    },
    {
      "cell_type": "code",
      "source": [
        "len(X_test)"
      ],
      "metadata": {
        "colab": {
          "base_uri": "https://localhost:8080/"
        },
        "id": "bnIQ0T-bqJtu",
        "outputId": "622594f0-9ebe-4e38-9d71-c3f175cf83a3"
      },
      "execution_count": 504,
      "outputs": [
        {
          "output_type": "execute_result",
          "data": {
            "text/plain": [
              "59994"
            ]
          },
          "metadata": {},
          "execution_count": 504
        }
      ]
    },
    {
      "cell_type": "code",
      "source": [
        "len(y_test)"
      ],
      "metadata": {
        "colab": {
          "base_uri": "https://localhost:8080/"
        },
        "id": "S_HPyHhzqMAR",
        "outputId": "548fbf8a-3253-41de-ebb2-418cc2fab628"
      },
      "execution_count": 505,
      "outputs": [
        {
          "output_type": "execute_result",
          "data": {
            "text/plain": [
              "59994"
            ]
          },
          "metadata": {},
          "execution_count": 505
        }
      ]
    },
    {
      "cell_type": "code",
      "source": [
        "from sklearn.linear_model import LinearRegression\n",
        "lr_model=LinearRegression()\n",
        "lr_model.fit(X_train,y_train)"
      ],
      "metadata": {
        "colab": {
          "base_uri": "https://localhost:8080/",
          "height": 74
        },
        "id": "mC4TxperZMNe",
        "outputId": "b75f3219-510c-4257-dea7-8e1266a6f382"
      },
      "execution_count": 518,
      "outputs": [
        {
          "output_type": "execute_result",
          "data": {
            "text/plain": [
              "LinearRegression()"
            ],
            "text/html": [
              "<style>#sk-container-id-5 {color: black;background-color: white;}#sk-container-id-5 pre{padding: 0;}#sk-container-id-5 div.sk-toggleable {background-color: white;}#sk-container-id-5 label.sk-toggleable__label {cursor: pointer;display: block;width: 100%;margin-bottom: 0;padding: 0.3em;box-sizing: border-box;text-align: center;}#sk-container-id-5 label.sk-toggleable__label-arrow:before {content: \"▸\";float: left;margin-right: 0.25em;color: #696969;}#sk-container-id-5 label.sk-toggleable__label-arrow:hover:before {color: black;}#sk-container-id-5 div.sk-estimator:hover label.sk-toggleable__label-arrow:before {color: black;}#sk-container-id-5 div.sk-toggleable__content {max-height: 0;max-width: 0;overflow: hidden;text-align: left;background-color: #f0f8ff;}#sk-container-id-5 div.sk-toggleable__content pre {margin: 0.2em;color: black;border-radius: 0.25em;background-color: #f0f8ff;}#sk-container-id-5 input.sk-toggleable__control:checked~div.sk-toggleable__content {max-height: 200px;max-width: 100%;overflow: auto;}#sk-container-id-5 input.sk-toggleable__control:checked~label.sk-toggleable__label-arrow:before {content: \"▾\";}#sk-container-id-5 div.sk-estimator input.sk-toggleable__control:checked~label.sk-toggleable__label {background-color: #d4ebff;}#sk-container-id-5 div.sk-label input.sk-toggleable__control:checked~label.sk-toggleable__label {background-color: #d4ebff;}#sk-container-id-5 input.sk-hidden--visually {border: 0;clip: rect(1px 1px 1px 1px);clip: rect(1px, 1px, 1px, 1px);height: 1px;margin: -1px;overflow: hidden;padding: 0;position: absolute;width: 1px;}#sk-container-id-5 div.sk-estimator {font-family: monospace;background-color: #f0f8ff;border: 1px dotted black;border-radius: 0.25em;box-sizing: border-box;margin-bottom: 0.5em;}#sk-container-id-5 div.sk-estimator:hover {background-color: #d4ebff;}#sk-container-id-5 div.sk-parallel-item::after {content: \"\";width: 100%;border-bottom: 1px solid gray;flex-grow: 1;}#sk-container-id-5 div.sk-label:hover label.sk-toggleable__label {background-color: #d4ebff;}#sk-container-id-5 div.sk-serial::before {content: \"\";position: absolute;border-left: 1px solid gray;box-sizing: border-box;top: 0;bottom: 0;left: 50%;z-index: 0;}#sk-container-id-5 div.sk-serial {display: flex;flex-direction: column;align-items: center;background-color: white;padding-right: 0.2em;padding-left: 0.2em;position: relative;}#sk-container-id-5 div.sk-item {position: relative;z-index: 1;}#sk-container-id-5 div.sk-parallel {display: flex;align-items: stretch;justify-content: center;background-color: white;position: relative;}#sk-container-id-5 div.sk-item::before, #sk-container-id-5 div.sk-parallel-item::before {content: \"\";position: absolute;border-left: 1px solid gray;box-sizing: border-box;top: 0;bottom: 0;left: 50%;z-index: -1;}#sk-container-id-5 div.sk-parallel-item {display: flex;flex-direction: column;z-index: 1;position: relative;background-color: white;}#sk-container-id-5 div.sk-parallel-item:first-child::after {align-self: flex-end;width: 50%;}#sk-container-id-5 div.sk-parallel-item:last-child::after {align-self: flex-start;width: 50%;}#sk-container-id-5 div.sk-parallel-item:only-child::after {width: 0;}#sk-container-id-5 div.sk-dashed-wrapped {border: 1px dashed gray;margin: 0 0.4em 0.5em 0.4em;box-sizing: border-box;padding-bottom: 0.4em;background-color: white;}#sk-container-id-5 div.sk-label label {font-family: monospace;font-weight: bold;display: inline-block;line-height: 1.2em;}#sk-container-id-5 div.sk-label-container {text-align: center;}#sk-container-id-5 div.sk-container {/* jupyter's `normalize.less` sets `[hidden] { display: none; }` but bootstrap.min.css set `[hidden] { display: none !important; }` so we also need the `!important` here to be able to override the default hidden behavior on the sphinx rendered scikit-learn.org. See: https://github.com/scikit-learn/scikit-learn/issues/21755 */display: inline-block !important;position: relative;}#sk-container-id-5 div.sk-text-repr-fallback {display: none;}</style><div id=\"sk-container-id-5\" class=\"sk-top-container\"><div class=\"sk-text-repr-fallback\"><pre>LinearRegression()</pre><b>In a Jupyter environment, please rerun this cell to show the HTML representation or trust the notebook. <br />On GitHub, the HTML representation is unable to render, please try loading this page with nbviewer.org.</b></div><div class=\"sk-container\" hidden><div class=\"sk-item\"><div class=\"sk-estimator sk-toggleable\"><input class=\"sk-toggleable__control sk-hidden--visually\" id=\"sk-estimator-id-5\" type=\"checkbox\" checked><label for=\"sk-estimator-id-5\" class=\"sk-toggleable__label sk-toggleable__label-arrow\">LinearRegression</label><div class=\"sk-toggleable__content\"><pre>LinearRegression()</pre></div></div></div></div></div>"
            ]
          },
          "metadata": {},
          "execution_count": 518
        }
      ]
    },
    {
      "cell_type": "code",
      "source": [
        "lr_model.coef_"
      ],
      "metadata": {
        "colab": {
          "base_uri": "https://localhost:8080/"
        },
        "id": "g4LgAHrRu-kE",
        "outputId": "e535b69a-b21f-4f20-c74a-76090f3edd70"
      },
      "execution_count": 519,
      "outputs": [
        {
          "output_type": "execute_result",
          "data": {
            "text/plain": [
              "array([ 1.00000000e+00,  8.81166906e-17, -5.82230244e-17,  1.18485525e-16,\n",
              "       -5.60940872e-17, -4.14952063e-18,  8.74233818e-17,  7.36052450e-18,\n",
              "       -3.85183184e-17, -1.13651292e-16, -1.23863874e-17, -1.10516904e-16])"
            ]
          },
          "metadata": {},
          "execution_count": 519
        }
      ]
    },
    {
      "cell_type": "code",
      "source": [
        "lr_model.intercept_"
      ],
      "metadata": {
        "colab": {
          "base_uri": "https://localhost:8080/"
        },
        "id": "CnS15DylvAuH",
        "outputId": "871f381f-f611-4054-f0d0-980a63a69532"
      },
      "execution_count": 520,
      "outputs": [
        {
          "output_type": "execute_result",
          "data": {
            "text/plain": [
              "-1.7408297026122455e-13"
            ]
          },
          "metadata": {},
          "execution_count": 520
        }
      ]
    },
    {
      "cell_type": "markdown",
      "source": [
        "fare_price=coef*distance_km+intercept"
      ],
      "metadata": {
        "id": "iyJ6-8VtqzCO"
      }
    },
    {
      "cell_type": "code",
      "source": [
        "y_pred=lr_model.predict(X_test)\n",
        "y_pred"
      ],
      "metadata": {
        "colab": {
          "base_uri": "https://localhost:8080/"
        },
        "id": "0MIi9CELvN8n",
        "outputId": "9a85e147-31e0-472f-bcf7-1412233a6c91"
      },
      "execution_count": 523,
      "outputs": [
        {
          "output_type": "execute_result",
          "data": {
            "text/plain": [
              "array([13.7, 12.5,  5. , ...,  5.5,  4.9, 11.5])"
            ]
          },
          "metadata": {},
          "execution_count": 523
        }
      ]
    },
    {
      "cell_type": "code",
      "source": [
        "y_test"
      ],
      "metadata": {
        "colab": {
          "base_uri": "https://localhost:8080/"
        },
        "id": "8IKMXdR7vR3T",
        "outputId": "17968ae7-5782-4c7d-cf6a-5c084f9edfa0"
      },
      "execution_count": 524,
      "outputs": [
        {
          "output_type": "execute_result",
          "data": {
            "text/plain": [
              "1743      13.70\n",
              "178736    12.50\n",
              "79355      5.00\n",
              "3649       8.10\n",
              "169676    57.33\n",
              "          ...  \n",
              "119077    11.30\n",
              "123378    22.50\n",
              "142696     5.50\n",
              "94182      4.90\n",
              "117077    11.50\n",
              "Name: fare_amount, Length: 59994, dtype: float64"
            ]
          },
          "metadata": {},
          "execution_count": 524
        }
      ]
    },
    {
      "cell_type": "code",
      "source": [
        "from sklearn.metrics import r2_score\n",
        "r2_score(y_test,y_pred)"
      ],
      "metadata": {
        "colab": {
          "base_uri": "https://localhost:8080/"
        },
        "id": "ycY9h42CnYYa",
        "outputId": "2ebaf1f2-2b43-40a9-9011-ef81d1d9f232"
      },
      "execution_count": 525,
      "outputs": [
        {
          "output_type": "execute_result",
          "data": {
            "text/plain": [
              "1.0"
            ]
          },
          "metadata": {},
          "execution_count": 525
        }
      ]
    },
    {
      "cell_type": "markdown",
      "source": [
        "#summary:\n",
        "\n",
        "R-squared value of 1.0 model predicts Uber fares perfectly.\n"
      ],
      "metadata": {
        "id": "eBhYX9L3E3X0"
      }
    }
  ]
}